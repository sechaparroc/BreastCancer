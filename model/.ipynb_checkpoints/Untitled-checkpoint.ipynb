{
 "cells": [
  {
   "cell_type": "code",
   "execution_count": 1,
   "id": "9814bd99-fbcf-47be-a8ca-abe7059b1300",
   "metadata": {},
   "outputs": [],
   "source": [
    "# https://towardsdatascience.com/transfer-learning-using-mobilenet-and-keras-c75daf7ff299\n",
    "from tensorflow.keras.applications import MobileNetV2"
   ]
  },
  {
   "cell_type": "code",
   "execution_count": null,
   "id": "c913023f-7ef8-4cb3-9a5b-2783c4d9c2eb",
   "metadata": {},
   "outputs": [],
   "source": [
    "#load data from DataFrame see https://www.tensorflow.org/api_docs/python/tf/keras/preprocessing/image/ImageDataGenerator#flow_from_dataframe\n",
    "from tensorflow.keras.preprocessing.image import ImageDataGenerator\n",
    "train_generator = ImageDataGenerator(\n",
    "    preprocessing_function = preprocess_input,\n",
    "    rotation_range=20,\n",
    "    width_shift_range=0.2,\n",
    "    height_shift_range=0.2,\n",
    "    horizontal_flip=True,\n",
    "    vertical_flip=True                                                   \n",
    ").flow_from_dataframe(dataframe = train, x_col = 'path', y_col='class', class_mode = 'binary',target_size=(50, 50), batch_size=32)\n"
   ]
  },
  {
   "cell_type": "code",
   "execution_count": null,
   "id": "de0e8941-2787-433c-9ae8-16cc3ade53f4",
   "metadata": {},
   "outputs": [],
   "source": [
    "# Define a classical CNN architecture: conv -> max pool\n",
    "def mobilenet_model():\n",
    "    #based on https://towardsdatascience.com/transfer-learning-using-mobilenet-and-keras-c75daf7ff299\n",
    "    base_model=MobileNet(weights='imagenet',include_top=False) #imports the mobilenet model and discards the last 1000 neuron layer.\n",
    "    x=base_model.output\n",
    "    x=GlobalAveragePooling2D()(x)\n",
    "    x=Dense(1024,activation='relu')(x) #we add dense layers so that the model can learn more complex functions and classify for better results.\n",
    "    x=Dense(1024,activation='relu')(x) #dense layer 2\n",
    "    x=Dense(512,activation='relu')(x) #dense layer 3\n",
    "    preds=Dense(1,activation= activation='sigmoid')(x) #final layer with softmax activation    \n",
    "    \n",
    "    model=Model(inputs=base_model.input,outputs=preds)\n",
    "\n",
    "    for layer in model.layers[:20]:\n",
    "        layer.trainable=False\n",
    "    for layer in model.layers[20:]:\n",
    "        layer.trainable=True    \n",
    "    \n",
    "    return model\n",
    "\n",
    "mob_model = mobilenet_model()\n",
    "mob_model.summary()"
   ]
  },
  {
   "cell_type": "code",
   "execution_count": null,
   "id": "12810607-c2fd-4757-8022-0bffc22700f5",
   "metadata": {},
   "outputs": [],
   "source": [
    "mob_model.compile(loss='binary_crossentropy', optimizer=tf.keras.optimizers.Adam(), metrics= ['accuracy', Precision(), Recall()])\n"
   ]
  },
  {
   "cell_type": "code",
   "execution_count": null,
   "id": "d5344967-6f3e-4ee8-8bb4-55223471991d",
   "metadata": {},
   "outputs": [],
   "source": [
    "# Add callback for early stopping\n",
    "es_callback = tf.keras.callbacks.EarlyStopping(\n",
    "    monitor='val_accuracy',\n",
    "    patience=20,\n",
    "    mode='auto',\n",
    "    baseline=None,\n",
    "    restore_best_weights=True\n",
    ")\n",
    "\n",
    "mob_history = mob_model.fit(train_generator,\n",
    "    epochs=100,\n",
    "    steps_per_epoch=len(train) / 32, \n",
    "    verbose=1,\n",
    "    shuffle = True,\n",
    "    validation_data = validation_generator,\n",
    "    callbacks=[es_callback]\n",
    ")"
   ]
  },
  {
   "cell_type": "code",
   "execution_count": null,
   "id": "685cc1b9-280e-4f77-865b-0872b2e225f2",
   "metadata": {},
   "outputs": [],
   "source": []
  }
 ],
 "metadata": {
  "kernelspec": {
   "display_name": "Python 3 (ipykernel)",
   "language": "python",
   "name": "python3"
  },
  "language_info": {
   "codemirror_mode": {
    "name": "ipython",
    "version": 3
   },
   "file_extension": ".py",
   "mimetype": "text/x-python",
   "name": "python",
   "nbconvert_exporter": "python",
   "pygments_lexer": "ipython3",
   "version": "3.9.7"
  }
 },
 "nbformat": 4,
 "nbformat_minor": 5
}
