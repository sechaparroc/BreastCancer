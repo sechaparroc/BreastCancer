{
 "cells": [
  {
   "cell_type": "code",
   "execution_count": 1,
   "id": "e2f28576-6293-4dbc-927a-b5ebfbfd3f86",
   "metadata": {},
   "outputs": [],
   "source": [
    "#Initial test of basic model with Breast Cancer Dataset\n",
    "#Make sure that the parent folder of Initial Model is within the same directory as the Data Folder with all the images\n",
    "\"\"\"\n",
    "Example:\n",
    "+ Data\n",
    "+ DashApp\n",
    "  |--- InitialModel\n",
    "        |--- initial_model_test.ipynb\n",
    "\"\"\"\n",
    "#Comment this to use GPU\n",
    "import os\n",
    "#os.environ[\"CUDA_VISIBLE_DEVICES\"] = \"-1\" #Remove this line if you have a GPU device"
   ]
  },
  {
   "cell_type": "code",
   "execution_count": 2,
   "id": "f379774b-9c3c-450f-baad-2f2486eae505",
   "metadata": {},
   "outputs": [],
   "source": [
    "import os\n",
    "#Global variables\n",
    "DATA_PATH = os.path.join(\"..\",\"..\",\"Data\")\n",
    "RANDOM_SEED = 42\n",
    "TEST_FRACTION = 0.2 # Just for initial test it must be something like 0.2\n",
    "VALIDATION_FRACTION = 0.25 # Use the 25% of the non test samples to build the validation set (the remaining is the Test Set)\n",
    "# Input patches are 50X50\n",
    "IMAGE_WIDTH = 50 \n",
    "IMAGE_LENGTH = 50"
   ]
  },
  {
   "cell_type": "code",
   "execution_count": 3,
   "id": "d2d3d704-f520-497b-9925-2b170e6d1f9c",
   "metadata": {},
   "outputs": [],
   "source": [
    "import numpy as np\n",
    "np.random.seed(RANDOM_SEED)\n",
    "import tensorflow as tf\n",
    "tf.random.set_seed(RANDOM_SEED)\n",
    "# RMSprop optimizer - Perhaps Prove with Adam\n",
    "from tensorflow.keras.optimizers import RMSprop \n",
    "import pandas as pd\n",
    "from sklearn.model_selection import train_test_split\n",
    "import glob"
   ]
  },
  {
   "cell_type": "code",
   "execution_count": 4,
   "id": "63aaf9a6-c4a6-40e8-adc2-e6ffb896a810",
   "metadata": {},
   "outputs": [],
   "source": [
    "# read all patches\n",
    "patches = []\n",
    "for path in glob.glob(os.path.join(DATA_PATH,'**/*class*.png'), recursive = True):\n",
    "    patches.append(path)"
   ]
  },
  {
   "cell_type": "code",
   "execution_count": 27,
   "id": "e2b821c3-81b4-4f97-bbf6-8370cb3403e7",
   "metadata": {},
   "outputs": [
    {
     "data": {
      "text/html": [
       "<div>\n",
       "<style scoped>\n",
       "    .dataframe tbody tr th:only-of-type {\n",
       "        vertical-align: middle;\n",
       "    }\n",
       "\n",
       "    .dataframe tbody tr th {\n",
       "        vertical-align: top;\n",
       "    }\n",
       "\n",
       "    .dataframe thead th {\n",
       "        text-align: right;\n",
       "    }\n",
       "</style>\n",
       "<table border=\"1\" class=\"dataframe\">\n",
       "  <thead>\n",
       "    <tr style=\"text-align: right;\">\n",
       "      <th></th>\n",
       "      <th>path</th>\n",
       "      <th>id</th>\n",
       "      <th>x</th>\n",
       "      <th>y</th>\n",
       "      <th>class</th>\n",
       "    </tr>\n",
       "  </thead>\n",
       "  <tbody>\n",
       "    <tr>\n",
       "      <th>0</th>\n",
       "      <td>..\\..\\Data\\14305\\1\\14305_idx5_x901_y1051_class...</td>\n",
       "      <td>5</td>\n",
       "      <td>901</td>\n",
       "      <td>1051</td>\n",
       "      <td>1</td>\n",
       "    </tr>\n",
       "    <tr>\n",
       "      <th>1</th>\n",
       "      <td>..\\..\\Data\\8975\\0\\8975_idx5_x251_y1151_class0.png</td>\n",
       "      <td>5</td>\n",
       "      <td>251</td>\n",
       "      <td>1151</td>\n",
       "      <td>0</td>\n",
       "    </tr>\n",
       "    <tr>\n",
       "      <th>2</th>\n",
       "      <td>..\\..\\Data\\12951\\0\\12951_idx5_x2351_y301_class...</td>\n",
       "      <td>5</td>\n",
       "      <td>2351</td>\n",
       "      <td>301</td>\n",
       "      <td>0</td>\n",
       "    </tr>\n",
       "    <tr>\n",
       "      <th>3</th>\n",
       "      <td>..\\..\\Data\\14155\\1\\14155_idx5_x3601_y401_class...</td>\n",
       "      <td>5</td>\n",
       "      <td>3601</td>\n",
       "      <td>401</td>\n",
       "      <td>1</td>\n",
       "    </tr>\n",
       "    <tr>\n",
       "      <th>4</th>\n",
       "      <td>..\\..\\Data\\8918\\0\\8918_idx5_x1901_y1901_class0...</td>\n",
       "      <td>5</td>\n",
       "      <td>1901</td>\n",
       "      <td>1901</td>\n",
       "      <td>0</td>\n",
       "    </tr>\n",
       "    <tr>\n",
       "      <th>...</th>\n",
       "      <td>...</td>\n",
       "      <td>...</td>\n",
       "      <td>...</td>\n",
       "      <td>...</td>\n",
       "      <td>...</td>\n",
       "    </tr>\n",
       "    <tr>\n",
       "      <th>173324</th>\n",
       "      <td>..\\..\\Data\\9023\\1\\9023_idx5_x1951_y1401_class1...</td>\n",
       "      <td>5</td>\n",
       "      <td>1951</td>\n",
       "      <td>1401</td>\n",
       "      <td>1</td>\n",
       "    </tr>\n",
       "    <tr>\n",
       "      <th>173325</th>\n",
       "      <td>..\\..\\Data\\8863\\1\\8863_idx5_x1551_y1651_class1...</td>\n",
       "      <td>5</td>\n",
       "      <td>1551</td>\n",
       "      <td>1651</td>\n",
       "      <td>1</td>\n",
       "    </tr>\n",
       "    <tr>\n",
       "      <th>173326</th>\n",
       "      <td>..\\..\\Data\\8867\\1\\8867_idx5_x901_y1201_class1.png</td>\n",
       "      <td>5</td>\n",
       "      <td>901</td>\n",
       "      <td>1201</td>\n",
       "      <td>1</td>\n",
       "    </tr>\n",
       "    <tr>\n",
       "      <th>173327</th>\n",
       "      <td>..\\..\\Data\\9345\\1\\9345_idx5_x2001_y751_class1.png</td>\n",
       "      <td>5</td>\n",
       "      <td>2001</td>\n",
       "      <td>751</td>\n",
       "      <td>1</td>\n",
       "    </tr>\n",
       "    <tr>\n",
       "      <th>173328</th>\n",
       "      <td>..\\..\\Data\\9037\\1\\9037_idx5_x1501_y701_class1.png</td>\n",
       "      <td>5</td>\n",
       "      <td>1501</td>\n",
       "      <td>701</td>\n",
       "      <td>1</td>\n",
       "    </tr>\n",
       "  </tbody>\n",
       "</table>\n",
       "<p>173329 rows × 5 columns</p>\n",
       "</div>"
      ],
      "text/plain": [
       "                                                     path id     x     y class\n",
       "0       ..\\..\\Data\\14305\\1\\14305_idx5_x901_y1051_class...  5   901  1051     1\n",
       "1       ..\\..\\Data\\8975\\0\\8975_idx5_x251_y1151_class0.png  5   251  1151     0\n",
       "2       ..\\..\\Data\\12951\\0\\12951_idx5_x2351_y301_class...  5  2351   301     0\n",
       "3       ..\\..\\Data\\14155\\1\\14155_idx5_x3601_y401_class...  5  3601   401     1\n",
       "4       ..\\..\\Data\\8918\\0\\8918_idx5_x1901_y1901_class0...  5  1901  1901     0\n",
       "...                                                   ... ..   ...   ...   ...\n",
       "173324  ..\\..\\Data\\9023\\1\\9023_idx5_x1951_y1401_class1...  5  1951  1401     1\n",
       "173325  ..\\..\\Data\\8863\\1\\8863_idx5_x1551_y1651_class1...  5  1551  1651     1\n",
       "173326  ..\\..\\Data\\8867\\1\\8867_idx5_x901_y1201_class1.png  5   901  1201     1\n",
       "173327  ..\\..\\Data\\9345\\1\\9345_idx5_x2001_y751_class1.png  5  2001   751     1\n",
       "173328  ..\\..\\Data\\9037\\1\\9037_idx5_x1501_y701_class1.png  5  1501   701     1\n",
       "\n",
       "[173329 rows x 5 columns]"
      ]
     },
     "execution_count": 27,
     "metadata": {},
     "output_type": "execute_result"
    }
   ],
   "source": [
    "def createDataFrame(allow = 0.2): # allow an imbalance of 0.2%\n",
    "    # Keep info within a Pandas dataframe\n",
    "    data = pd.DataFrame({\"path\" : patches})\n",
    "    # Obtain patient information by spliting the filename\n",
    "    series_info = data[\"path\"].str.split(\"idx\").str[1].str.split(\"_\")\n",
    "    data['id'] = series_info.str[0] # this get the idx portion\n",
    "    data['x'] = series_info.str[1].str[1:] # this get the x coord\n",
    "    data['y'] = series_info.str[2].str[1:] # this get the y coord\n",
    "    data['class'] = series_info.str[3] # this get the class\n",
    "    data['class'] = data[\"class\"].map({\"class0.png\" : \"0\" , \"class1.png\" : \"1\"}) #map to a number\n",
    "    # Get the total number of registers from the class with the least number of samples \n",
    "    counts = data['class'].value_counts()\n",
    "    number_samples = int(min(counts) * (1 + allow))     \n",
    "    n0 = min(number_samples, counts.loc['0'])\n",
    "    n1 = min(number_samples, counts.loc['1'])\n",
    "    balanced_data = data[data['class'] == '0'].sample(n=n0, random_state=RANDOM_SEED, ignore_index=True)\n",
    "    balanced_data = pd.concat([balanced_data, data[data['class'] == '1'].sample(n=n1, random_state=RANDOM_SEED, ignore_index=True)], ignore_index=True)\n",
    "    \n",
    "    balanced_data = balanced_data.sample(frac=1, random_state=RANDOM_SEED).reset_index(drop=True)\n",
    "\n",
    "    # sample the dataframe in such way that the data per class is balanced (same number of samples)\n",
    "    return balanced_data\n",
    "\n",
    "    \n",
    "df = createDataFrame()\n",
    "df"
   ]
  },
  {
   "cell_type": "code",
   "execution_count": 28,
   "id": "a6b44cf0",
   "metadata": {},
   "outputs": [
    {
     "data": {
      "text/plain": [
       "0    94543\n",
       "1    78786\n",
       "Name: class, dtype: int64"
      ]
     },
     "execution_count": 28,
     "metadata": {},
     "output_type": "execute_result"
    }
   ],
   "source": [
    "df['class'].value_counts()"
   ]
  },
  {
   "cell_type": "code",
   "execution_count": 29,
   "id": "3f4cfc5d-6e0e-44e4-9cf1-71fe0537402c",
   "metadata": {},
   "outputs": [],
   "source": [
    "# Split data into train and test sets\n",
    "train_val, test = train_test_split(df, test_size=TEST_FRACTION, random_state=RANDOM_SEED, stratify=df['class'])\n",
    "# Split train_val into train and validation\n",
    "train, validation = train_test_split(train_val, test_size=VALIDATION_FRACTION, random_state=RANDOM_SEED, stratify=train_val['class'])\n"
   ]
  },
  {
   "cell_type": "code",
   "execution_count": 30,
   "id": "d4800e79-427c-49cc-ae58-d20c375d59b5",
   "metadata": {},
   "outputs": [
    {
     "name": "stdout",
     "output_type": "stream",
     "text": [
      "Train samples:  103997 class 0: 56725 class 1: 47272\n",
      "Validation samples:  34666 class 0: 18909 class 1: 15757\n",
      "Test samples:  34666 class 0: 18909 class 1: 15757\n"
     ]
    }
   ],
   "source": [
    "print(\"Train samples: \", len(train), \"class 0:\", len(train[train['class'] == '0']), \"class 1:\", len(train[train['class'] == '1']))\n",
    "print(\"Validation samples: \", len(validation), \"class 0:\", len(validation[validation['class'] == '0']), \"class 1:\", len(validation[validation['class'] == '1']))\n",
    "print(\"Test samples: \", len(test), \"class 0:\", len(test[test['class'] == '0']), \"class 1:\", len(test[test['class'] == '1']))"
   ]
  },
  {
   "cell_type": "code",
   "execution_count": 31,
   "id": "1284db37-f6c4-40dd-82f1-e5fa975af84d",
   "metadata": {},
   "outputs": [
    {
     "data": {
      "text/html": [
       "<div>\n",
       "<style scoped>\n",
       "    .dataframe tbody tr th:only-of-type {\n",
       "        vertical-align: middle;\n",
       "    }\n",
       "\n",
       "    .dataframe tbody tr th {\n",
       "        vertical-align: top;\n",
       "    }\n",
       "\n",
       "    .dataframe thead th {\n",
       "        text-align: right;\n",
       "    }\n",
       "</style>\n",
       "<table border=\"1\" class=\"dataframe\">\n",
       "  <thead>\n",
       "    <tr style=\"text-align: right;\">\n",
       "      <th></th>\n",
       "      <th>path</th>\n",
       "      <th>id</th>\n",
       "      <th>x</th>\n",
       "      <th>y</th>\n",
       "      <th>class</th>\n",
       "    </tr>\n",
       "  </thead>\n",
       "  <tbody>\n",
       "    <tr>\n",
       "      <th>45546</th>\n",
       "      <td>..\\..\\Data\\14304\\1\\14304_idx5_x1501_y301_class...</td>\n",
       "      <td>5</td>\n",
       "      <td>1501</td>\n",
       "      <td>301</td>\n",
       "      <td>1</td>\n",
       "    </tr>\n",
       "    <tr>\n",
       "      <th>58899</th>\n",
       "      <td>..\\..\\Data\\12934\\0\\12934_idx5_x2251_y701_class...</td>\n",
       "      <td>5</td>\n",
       "      <td>2251</td>\n",
       "      <td>701</td>\n",
       "      <td>0</td>\n",
       "    </tr>\n",
       "    <tr>\n",
       "      <th>92258</th>\n",
       "      <td>..\\..\\Data\\9227\\0\\9227_idx5_x1501_y501_class0.png</td>\n",
       "      <td>5</td>\n",
       "      <td>1501</td>\n",
       "      <td>501</td>\n",
       "      <td>0</td>\n",
       "    </tr>\n",
       "    <tr>\n",
       "      <th>118811</th>\n",
       "      <td>..\\..\\Data\\9260\\0\\9260_idx5_x2851_y801_class0.png</td>\n",
       "      <td>5</td>\n",
       "      <td>2851</td>\n",
       "      <td>801</td>\n",
       "      <td>0</td>\n",
       "    </tr>\n",
       "    <tr>\n",
       "      <th>99086</th>\n",
       "      <td>..\\..\\Data\\13692\\0\\13692_idx5_x1501_y1301_clas...</td>\n",
       "      <td>5</td>\n",
       "      <td>1501</td>\n",
       "      <td>1301</td>\n",
       "      <td>0</td>\n",
       "    </tr>\n",
       "  </tbody>\n",
       "</table>\n",
       "</div>"
      ],
      "text/plain": [
       "                                                     path id     x     y class\n",
       "45546   ..\\..\\Data\\14304\\1\\14304_idx5_x1501_y301_class...  5  1501   301     1\n",
       "58899   ..\\..\\Data\\12934\\0\\12934_idx5_x2251_y701_class...  5  2251   701     0\n",
       "92258   ..\\..\\Data\\9227\\0\\9227_idx5_x1501_y501_class0.png  5  1501   501     0\n",
       "118811  ..\\..\\Data\\9260\\0\\9260_idx5_x2851_y801_class0.png  5  2851   801     0\n",
       "99086   ..\\..\\Data\\13692\\0\\13692_idx5_x1501_y1301_clas...  5  1501  1301     0"
      ]
     },
     "execution_count": 31,
     "metadata": {},
     "output_type": "execute_result"
    }
   ],
   "source": [
    "train.head()"
   ]
  },
  {
   "cell_type": "code",
   "execution_count": 32,
   "id": "b0bc26ab-92fc-4979-8916-41e76a70632c",
   "metadata": {},
   "outputs": [
    {
     "data": {
      "text/html": [
       "<div>\n",
       "<style scoped>\n",
       "    .dataframe tbody tr th:only-of-type {\n",
       "        vertical-align: middle;\n",
       "    }\n",
       "\n",
       "    .dataframe tbody tr th {\n",
       "        vertical-align: top;\n",
       "    }\n",
       "\n",
       "    .dataframe thead th {\n",
       "        text-align: right;\n",
       "    }\n",
       "</style>\n",
       "<table border=\"1\" class=\"dataframe\">\n",
       "  <thead>\n",
       "    <tr style=\"text-align: right;\">\n",
       "      <th></th>\n",
       "      <th>path</th>\n",
       "      <th>id</th>\n",
       "      <th>x</th>\n",
       "      <th>y</th>\n",
       "      <th>class</th>\n",
       "    </tr>\n",
       "  </thead>\n",
       "  <tbody>\n",
       "    <tr>\n",
       "      <th>49982</th>\n",
       "      <td>..\\..\\Data\\10260\\0\\10260_idx5_x2501_y401_class...</td>\n",
       "      <td>5</td>\n",
       "      <td>2501</td>\n",
       "      <td>401</td>\n",
       "      <td>0</td>\n",
       "    </tr>\n",
       "    <tr>\n",
       "      <th>120507</th>\n",
       "      <td>..\\..\\Data\\10253\\0\\10253_idx5_x1251_y401_class...</td>\n",
       "      <td>5</td>\n",
       "      <td>1251</td>\n",
       "      <td>401</td>\n",
       "      <td>0</td>\n",
       "    </tr>\n",
       "    <tr>\n",
       "      <th>124962</th>\n",
       "      <td>..\\..\\Data\\13687\\0\\13687_idx5_x2851_y701_class...</td>\n",
       "      <td>5</td>\n",
       "      <td>2851</td>\n",
       "      <td>701</td>\n",
       "      <td>0</td>\n",
       "    </tr>\n",
       "    <tr>\n",
       "      <th>149364</th>\n",
       "      <td>..\\..\\Data\\12894\\1\\12894_idx5_x1551_y601_class...</td>\n",
       "      <td>5</td>\n",
       "      <td>1551</td>\n",
       "      <td>601</td>\n",
       "      <td>1</td>\n",
       "    </tr>\n",
       "    <tr>\n",
       "      <th>68307</th>\n",
       "      <td>..\\..\\Data\\9322\\0\\9322_idx5_x1201_y951_class0.png</td>\n",
       "      <td>5</td>\n",
       "      <td>1201</td>\n",
       "      <td>951</td>\n",
       "      <td>0</td>\n",
       "    </tr>\n",
       "  </tbody>\n",
       "</table>\n",
       "</div>"
      ],
      "text/plain": [
       "                                                     path id     x    y class\n",
       "49982   ..\\..\\Data\\10260\\0\\10260_idx5_x2501_y401_class...  5  2501  401     0\n",
       "120507  ..\\..\\Data\\10253\\0\\10253_idx5_x1251_y401_class...  5  1251  401     0\n",
       "124962  ..\\..\\Data\\13687\\0\\13687_idx5_x2851_y701_class...  5  2851  701     0\n",
       "149364  ..\\..\\Data\\12894\\1\\12894_idx5_x1551_y601_class...  5  1551  601     1\n",
       "68307   ..\\..\\Data\\9322\\0\\9322_idx5_x1201_y951_class0.png  5  1201  951     0"
      ]
     },
     "execution_count": 32,
     "metadata": {},
     "output_type": "execute_result"
    }
   ],
   "source": [
    "test.head()"
   ]
  },
  {
   "cell_type": "code",
   "execution_count": 33,
   "id": "a9da62c2-ea02-46fb-9810-ac3bfb10e5d7",
   "metadata": {},
   "outputs": [
    {
     "name": "stdout",
     "output_type": "stream",
     "text": [
      "Found 103997 validated image filenames belonging to 2 classes.\n",
      "Found 34666 validated image filenames belonging to 2 classes.\n",
      "Found 34666 validated image filenames belonging to 2 classes.\n"
     ]
    }
   ],
   "source": [
    "#load data from DataFrame see https://www.tensorflow.org/api_docs/python/tf/keras/preprocessing/image/ImageDataGenerator#flow_from_dataframe\n",
    "from tensorflow.keras.preprocessing.image import ImageDataGenerator\n",
    "train_generator = ImageDataGenerator(\n",
    "    rescale=1.0/255.0,\n",
    "    rotation_range=20,\n",
    "    width_shift_range=0.2,\n",
    "    height_shift_range=0.2,\n",
    "    horizontal_flip=True,\n",
    "    vertical_flip=True                                                   \n",
    ").flow_from_dataframe(dataframe = train, x_col = 'path', y_col='class', class_mode = 'binary',target_size=(50, 50), batch_size=32)\n",
    "validation_generator = ImageDataGenerator(rescale=1.0/255.0).flow_from_dataframe(dataframe = validation, x_col = 'path', y_col='class', class_mode = 'binary',target_size=(50, 50),)\n",
    "test_generator = ImageDataGenerator(rescale=1.0/255.0,).flow_from_dataframe(dataframe = test, x_col = 'path', y_col='class', class_mode = 'binary',target_size=(50, 50),)"
   ]
  },
  {
   "cell_type": "code",
   "execution_count": 45,
   "id": "e4199637-1eae-410a-93f2-8558eabfe24f",
   "metadata": {},
   "outputs": [
    {
     "name": "stdout",
     "output_type": "stream",
     "text": [
      "X_1 shape (32, 50, 50, 3)\n",
      "y_1 shape (32,) [0. 1. 1. 0. 0. 0. 0. 1. 1. 1. 1. 1. 0. 0. 0. 0. 1. 0. 1. 0. 0. 0. 0. 0.\n",
      " 0. 1. 0. 1. 1. 0. 1. 1.] <class 'numpy.float32'>\n",
      "<class 'numpy.float32'>\n"
     ]
    }
   ],
   "source": [
    "# Inspect the first sample\n",
    "X_1, y_1 = next(train_generator)\n",
    "# Look shapes of the training samples and the labels\n",
    "print(\"X_1 shape\", X_1.shape)\n",
    "print(\"y_1 shape\", y_1.shape, y_1, type(y_1[0]))\n",
    "print(np.float32)"
   ]
  },
  {
   "cell_type": "code",
   "execution_count": 35,
   "id": "ebd4348c-52e2-443e-8d85-75b10ff38386",
   "metadata": {},
   "outputs": [
    {
     "name": "stdout",
     "output_type": "stream",
     "text": [
      "Model: \"sequential\"\n",
      "_________________________________________________________________\n",
      " Layer (type)                Output Shape              Param #   \n",
      "=================================================================\n",
      " conv2d (Conv2D)             (None, 48, 48, 32)        896       \n",
      "                                                                 \n",
      " max_pooling2d (MaxPooling2D  (None, 24, 24, 32)       0         \n",
      " )                                                               \n",
      "                                                                 \n",
      " conv2d_1 (Conv2D)           (None, 22, 22, 64)        18496     \n",
      "                                                                 \n",
      " max_pooling2d_1 (MaxPooling  (None, 11, 11, 64)       0         \n",
      " 2D)                                                             \n",
      "                                                                 \n",
      " conv2d_2 (Conv2D)           (None, 9, 9, 128)         73856     \n",
      "                                                                 \n",
      " max_pooling2d_2 (MaxPooling  (None, 4, 4, 128)        0         \n",
      " 2D)                                                             \n",
      "                                                                 \n",
      " flatten (Flatten)           (None, 2048)              0         \n",
      "                                                                 \n",
      " dense (Dense)               (None, 512)               1049088   \n",
      "                                                                 \n",
      " dense_1 (Dense)             (None, 1)                 513       \n",
      "                                                                 \n",
      "=================================================================\n",
      "Total params: 1,142,849\n",
      "Trainable params: 1,142,849\n",
      "Non-trainable params: 0\n",
      "_________________________________________________________________\n"
     ]
    }
   ],
   "source": [
    "# Define a classical CNN architecture: conv -> max pool\n",
    "def classical_model():\n",
    "    # build and train a quite simple CNN binary classification model\n",
    "    model = tf.keras.models.Sequential([\n",
    "\n",
    "    tf.keras.layers.Conv2D(32, (3,3), activation='relu', input_shape=(IMAGE_WIDTH, IMAGE_LENGTH, 3)),\n",
    "    tf.keras.layers.MaxPooling2D(2,2),\n",
    "\n",
    "    tf.keras.layers.Conv2D(64, (3,3), activation='relu', input_shape=(IMAGE_WIDTH, IMAGE_LENGTH, 3)),\n",
    "    tf.keras.layers.MaxPooling2D(2,2),\n",
    "        \n",
    "    tf.keras.layers.Conv2D(128, (3,3), activation='relu', input_shape=(IMAGE_WIDTH, IMAGE_LENGTH, 3)),\n",
    "    tf.keras.layers.MaxPooling2D(2,2),\n",
    "\n",
    "    tf.keras.layers.Flatten(),\n",
    "\n",
    "    tf.keras.layers.Dense(512, activation='relu'),\n",
    "    tf.keras.layers.Dense(1, activation='sigmoid')])\n",
    "\n",
    "    return model\n",
    "\n",
    "model = classical_model()\n",
    "model.summary()"
   ]
  },
  {
   "cell_type": "code",
   "execution_count": 36,
   "id": "fa8c229d-4ed0-4c9f-a9ae-c6e7de384cf4",
   "metadata": {},
   "outputs": [],
   "source": [
    "from keras.metrics import Precision, Recall\n",
    "\n",
    "model.compile(loss='binary_crossentropy', optimizer=tf.keras.optimizers.Adam(), metrics= ['accuracy', Precision(), Recall()])"
   ]
  },
  {
   "cell_type": "code",
   "execution_count": 38,
   "id": "0df570d3-33c2-4e77-9998-db922cb8c018",
   "metadata": {},
   "outputs": [
    {
     "name": "stdout",
     "output_type": "stream",
     "text": [
      "Num GPUs Available:  1\n"
     ]
    }
   ],
   "source": [
    "import tensorflow as tf\n",
    "print(\"Num GPUs Available: \", len(tf.config.list_physical_devices('GPU')))"
   ]
  },
  {
   "cell_type": "code",
   "execution_count": null,
   "id": "359f1988-34f3-41f2-b8c5-70b2f516f893",
   "metadata": {},
   "outputs": [
    {
     "name": "stdout",
     "output_type": "stream",
     "text": [
      "Epoch 1/30\n",
      "3249/3249 [==============================] - 262s 81ms/step - loss: 0.4457 - accuracy: 0.8020 - precision: 0.7760 - recall: 0.7936 - val_loss: 0.4127 - val_accuracy: 0.8225 - val_precision: 0.8156 - val_recall: 0.7876\n",
      "Epoch 2/30\n",
      "3249/3249 [==============================] - 109s 34ms/step - loss: 0.4065 - accuracy: 0.8257 - precision: 0.8002 - recall: 0.8217 - val_loss: 0.3845 - val_accuracy: 0.8350 - val_precision: 0.8408 - val_recall: 0.7858\n",
      "Epoch 3/30\n",
      "3249/3249 [==============================] - 108s 33ms/step - loss: 0.3917 - accuracy: 0.8316 - precision: 0.8035 - recall: 0.8333 - val_loss: 0.3834 - val_accuracy: 0.8389 - val_precision: 0.8287 - val_recall: 0.8138\n",
      "Epoch 4/30\n",
      "3249/3249 [==============================] - 106s 33ms/step - loss: 0.3870 - accuracy: 0.8338 - precision: 0.8050 - recall: 0.8372 - val_loss: 0.3804 - val_accuracy: 0.8407 - val_precision: 0.7978 - val_recall: 0.8700\n",
      "Epoch 5/30\n",
      "3249/3249 [==============================] - 108s 33ms/step - loss: 0.3803 - accuracy: 0.8373 - precision: 0.8101 - recall: 0.8386 - val_loss: 0.3961 - val_accuracy: 0.8288 - val_precision: 0.7690 - val_recall: 0.8908\n",
      "Epoch 6/30\n",
      "3249/3249 [==============================] - 103s 32ms/step - loss: 0.3739 - accuracy: 0.8414 - precision: 0.8137 - recall: 0.8444 - val_loss: 0.3864 - val_accuracy: 0.8317 - val_precision: 0.8579 - val_recall: 0.7546\n",
      "Epoch 7/30\n",
      "3249/3249 [==============================] - 106s 33ms/step - loss: 0.3704 - accuracy: 0.8422 - precision: 0.8149 - recall: 0.8449 - val_loss: 0.3618 - val_accuracy: 0.8482 - val_precision: 0.8157 - val_recall: 0.8604\n",
      "Epoch 8/30\n",
      "3249/3249 [==============================] - 103s 32ms/step - loss: 0.3682 - accuracy: 0.8433 - precision: 0.8144 - recall: 0.8488 - val_loss: 0.3662 - val_accuracy: 0.8445 - val_precision: 0.8068 - val_recall: 0.8651\n",
      "Epoch 9/30\n",
      "3249/3249 [==============================] - 101s 31ms/step - loss: 0.3649 - accuracy: 0.8446 - precision: 0.8172 - recall: 0.8476 - val_loss: 0.3566 - val_accuracy: 0.8493 - val_precision: 0.8169 - val_recall: 0.8617\n",
      "Epoch 10/30\n",
      "3249/3249 [==============================] - 104s 32ms/step - loss: 0.3637 - accuracy: 0.8454 - precision: 0.8175 - recall: 0.8495 - val_loss: 0.3516 - val_accuracy: 0.8527 - val_precision: 0.8309 - val_recall: 0.8486\n",
      "Epoch 11/30\n",
      "3249/3249 [==============================] - 137s 42ms/step - loss: 0.3626 - accuracy: 0.8454 - precision: 0.8176 - recall: 0.8493 - val_loss: 0.3709 - val_accuracy: 0.8418 - val_precision: 0.7914 - val_recall: 0.8854\n",
      "Epoch 12/30\n",
      "1678/3249 [==============>...............] - ETA: 1:00 - loss: 0.3597 - accuracy: 0.8475 - precision: 0.8207 - recall: 0.8503"
     ]
    }
   ],
   "source": [
    "from sklearn.utils import class_weight\n",
    "\n",
    "# Add callback for early stopping\n",
    "es_callback = tf.keras.callbacks.EarlyStopping(\n",
    "    monitor='val_accuracy',\n",
    "    patience=10,\n",
    "    mode='auto',\n",
    "    baseline=None,\n",
    "    restore_best_weights=True\n",
    ")\n",
    "\n",
    "class_weights = class_weight.compute_class_weight('balanced', classes = np.unique(train['class'].to_numpy(dtype=int)), y = train['class'].to_numpy(dtype=int))\n",
    "weights = { 0. : class_weights[0], 1. : class_weights[1]}\n",
    "history = model.fit(train_generator,\n",
    "    epochs=30,\n",
    "    steps_per_epoch=len(train) / 32, \n",
    "    verbose=1,\n",
    "    shuffle = True,\n",
    "    validation_data = validation_generator,\n",
    "    class_weight=weights,                    \n",
    "    callbacks=[es_callback]\n",
    ")"
   ]
  },
  {
   "cell_type": "code",
   "execution_count": 21,
   "id": "92054526-67b1-4598-910a-05e6699280f2",
   "metadata": {},
   "outputs": [
    {
     "name": "stdout",
     "output_type": "stream",
     "text": [
      "788/788 [==============================] - 19s 25ms/step - loss: 0.3685 - accuracy: 0.8465 - precision: 0.8402 - recall: 0.8557\n"
     ]
    },
    {
     "data": {
      "text/plain": [
       "[0.36849701404571533,\n",
       " 0.8465016484260559,\n",
       " 0.840239942073822,\n",
       " 0.8557036519050598]"
      ]
     },
     "execution_count": 21,
     "metadata": {},
     "output_type": "execute_result"
    }
   ],
   "source": [
    "model.evaluate(validation_generator)"
   ]
  },
  {
   "cell_type": "code",
   "execution_count": 22,
   "id": "0046bfd9-8aa0-4bca-b813-215781155569",
   "metadata": {},
   "outputs": [
    {
     "name": "stdout",
     "output_type": "stream",
     "text": [
      "985/985 [==============================] - 70s 71ms/step - loss: 0.3755 - accuracy: 0.8508 - precision: 0.8424 - recall: 0.8631\n"
     ]
    },
    {
     "data": {
      "text/plain": [
       "[0.3754580616950989,\n",
       " 0.8508012294769287,\n",
       " 0.8423660397529602,\n",
       " 0.8631084561347961]"
      ]
     },
     "execution_count": 22,
     "metadata": {},
     "output_type": "execute_result"
    }
   ],
   "source": [
    "model.evaluate(test_generator)\n"
   ]
  },
  {
   "cell_type": "code",
   "execution_count": 12,
   "id": "28df31e4-ffca-40e2-896e-eda63a59a5d6",
   "metadata": {},
   "outputs": [],
   "source": [
    "# Save the model\n",
    "# model.save('classical_model.h5')\n",
    "#Load the model\n",
    "#model = tf.keras.models.load_model('classical_model.h5')"
   ]
  },
  {
   "cell_type": "code",
   "execution_count": 14,
   "id": "b9bddeb2-73d3-492f-bcb5-6b2598e4f123",
   "metadata": {},
   "outputs": [
    {
     "name": "stdout",
     "output_type": "stream",
     "text": [
      "985/985 [==============================] - 122s 124ms/step - loss: 0.3755 - accuracy: 0.8508 - precision: 0.8424 - recall: 0.8631\n"
     ]
    },
    {
     "data": {
      "text/plain": [
       "[0.375467449426651, 0.8508012294769287, 0.8423660397529602, 0.8631084561347961]"
      ]
     },
     "execution_count": 14,
     "metadata": {},
     "output_type": "execute_result"
    }
   ],
   "source": [
    "model.evaluate(test_generator)"
   ]
  },
  {
   "cell_type": "code",
   "execution_count": 15,
   "id": "66b7156a-7c14-4c9b-b509-584e0acdf849",
   "metadata": {},
   "outputs": [
    {
     "name": "stdout",
     "output_type": "stream",
     "text": [
      "Model: \"sequential\"\n",
      "_________________________________________________________________\n",
      "Layer (type)                 Output Shape              Param #   \n",
      "=================================================================\n",
      "conv2d (Conv2D)              (None, 48, 48, 32)        896       \n",
      "_________________________________________________________________\n",
      "max_pooling2d (MaxPooling2D) (None, 24, 24, 32)        0         \n",
      "_________________________________________________________________\n",
      "conv2d_1 (Conv2D)            (None, 22, 22, 64)        18496     \n",
      "_________________________________________________________________\n",
      "max_pooling2d_1 (MaxPooling2 (None, 11, 11, 64)        0         \n",
      "_________________________________________________________________\n",
      "conv2d_2 (Conv2D)            (None, 9, 9, 128)         73856     \n",
      "_________________________________________________________________\n",
      "max_pooling2d_2 (MaxPooling2 (None, 4, 4, 128)         0         \n",
      "_________________________________________________________________\n",
      "flatten (Flatten)            (None, 2048)              0         \n",
      "_________________________________________________________________\n",
      "dense (Dense)                (None, 512)               1049088   \n",
      "_________________________________________________________________\n",
      "dense_1 (Dense)              (None, 1)                 513       \n",
      "=================================================================\n",
      "Total params: 1,142,849\n",
      "Trainable params: 1,142,849\n",
      "Non-trainable params: 0\n",
      "_________________________________________________________________\n"
     ]
    }
   ],
   "source": [
    "new_model.summary()"
   ]
  },
  {
   "cell_type": "code",
   "execution_count": null,
   "id": "b75ac16a-457a-481c-8326-2b361893e2ae",
   "metadata": {},
   "outputs": [],
   "source": []
  },
  {
   "cell_type": "code",
   "execution_count": null,
   "id": "a68a43e3-1218-40b4-90b6-c45cd312130f",
   "metadata": {},
   "outputs": [],
   "source": []
  },
  {
   "cell_type": "code",
   "execution_count": null,
   "id": "6088d7b7-8108-460c-9481-faa37b5af0ad",
   "metadata": {},
   "outputs": [],
   "source": []
  },
  {
   "cell_type": "code",
   "execution_count": 27,
   "id": "74d2ac9c-b949-4f0c-a0cf-47020c26e8a1",
   "metadata": {},
   "outputs": [],
   "source": [
    "import matplotlib.pyplot as plt"
   ]
  },
  {
   "cell_type": "code",
   "execution_count": 69,
   "id": "ce021122-4a56-448d-9e1c-38295010e262",
   "metadata": {},
   "outputs": [],
   "source": [
    "def plot_metrics(history):\n",
    "    metrics = ['loss', 'precision', 'recall', 'accuracy']\n",
    "    fig, axs = plt.subplots(2, 2)\n",
    "    for n, metric in enumerate(metrics):\n",
    "        name = metric.replace(\"_\",\" \").capitalize()\n",
    "        axs[n,0].plot(history.epoch, history.history[metric], color=colors[0], label='Train')\n",
    "        axs[n,1].plot(history.epoch, history.history['val_'+metric],\n",
    "                 color=colors[0], linestyle=\"--\", label='Val')\n",
    "        axs[n,0].xlabel('Epoch')\n",
    "        axs[n,0].ylabel(name)\n",
    "        axs[n,1].xlabel('Epoch')\n",
    "        axs[n,1].ylabel(name)\n",
    "        if metric == 'loss':\n",
    "            plt.ylim([0, plt.ylim()[1]])\n",
    "        elif metric == 'auc':\n",
    "            plt.ylim([0.8,1])\n",
    "        else:\n",
    "            plt.ylim([0,1])\n",
    "    plt.legend();"
   ]
  },
  {
   "cell_type": "code",
   "execution_count": 16,
   "id": "4845ece3-ac79-4133-8af9-619be5fcb806",
   "metadata": {},
   "outputs": [],
   "source": [
    "from sklearn.metrics import confusion_matrix, precision_recall_fscore_support\n",
    "from sklearn.model_selection import cross_val_score\n",
    "from sklearn.preprocessing import LabelEncoder\n",
    "from sklearn.model_selection import StratifiedKFold\n",
    "from sklearn.preprocessing import StandardScaler\n",
    "from sklearn.pipeline import Pipeline\n"
   ]
  },
  {
   "cell_type": "code",
   "execution_count": 19,
   "id": "9962190b-1d4c-4907-8840-34addb1f776f",
   "metadata": {},
   "outputs": [],
   "source": [
    "def plot_confusion_matrix(model):\n",
    "    # Print total accuracy and confusion matrix\n",
    "    val_predicts = model.predict(test_generator)\n",
    "    y_pred = 1*(val_predicts >= 0.5)\n",
    "    #print(\"ypred was\\n\")\n",
    "    #print(y_pred)\n",
    "    #print(\"ypred was\\n\")\n",
    "\n",
    "    # confusionMatrix takes first input = groundtruth, second input = predicted values\n",
    "    cm = confusion_matrix(groundTruth, y_pred)\n",
    "\n",
    "    # here we have simple check where we assume that all people are healthy\n",
    "    # then, we check what probability we get with dumb guess\n",
    "\n",
    "    # Normal cases can be counted by summing all labels that are zeros\n",
    "    print('Simple guess accuracy was: {:.4f}'.format(np.sum(groundTruth == 0)/len(groundTruth)))\n",
    "\n",
    "    # Accuracy can be calculated from the confusion matrix by\n",
    "    # counting all elements in diagonal (=trace of the matrix)\n",
    "    print('Total accuracy was: {:.4f}'.format(np.trace(cm)/sum(cm)))\n",
    "    print('Confusion matrix:')\n",
    "    print(cm)\n",
    "\n",
    "\n",
    "\n",
    "    # Calculate precision, recall, fscore and support\n",
    "    with warnings.catch_warnings():\n",
    "        warnings.simplefilter(\"ignore\")\n",
    "        p, r, f, s = precision_recall_fscore_support(groundTruth, y_pred)\n",
    "\n",
    "    # Print precision, recall, fscore and support  \n",
    "    np.set_printoptions(formatter={'float': '{: 0.3f}'.format})\n",
    "    print('Support:\\n', s)\n",
    "    print('Precision:', p)\n",
    "    print('Recall:   ', r)\n",
    "    print('F-score:  ', f)\n"
   ]
  },
  {
   "cell_type": "code",
   "execution_count": 29,
   "id": "bac59eab-c0c4-4bfb-bfe6-dd92bcd78276",
   "metadata": {},
   "outputs": [
    {
     "name": "stdout",
     "output_type": "stream",
     "text": [
      "dict_keys(['loss', 'accuracy', 'precision', 'recall', 'val_loss', 'val_accuracy', 'val_precision', 'val_recall'])\n"
     ]
    },
    {
     "data": {
      "image/png": "[encoded data removed]",
      "text/plain": [
       "<Figure size 432x288 with 1 Axes>"
      ]
     },
     "metadata": {
      "needs_background": "light"
     },
     "output_type": "display_data"
    },
    {
     "data": {
      "image/png": "[encoded data removed]",
      "text/plain": [
       "<Figure size 432x288 with 1 Axes>"
      ]
     },
     "metadata": {
      "needs_background": "light"
     },
     "output_type": "display_data"
    }
   ],
   "source": [
    "plot_history(history)"
   ]
  },
  {
   "cell_type": "code",
   "execution_count": null,
   "id": "8ecd104e-ef64-488a-8e6a-e82128ffefe2",
   "metadata": {},
   "outputs": [],
   "source": []
  },
  {
   "cell_type": "code",
   "execution_count": null,
   "id": "9fa1fc3b-05a1-4311-b577-929e035f864a",
   "metadata": {},
   "outputs": [
    {
     "name": "stdout",
     "output_type": "stream",
     "text": [
      "dict_keys(['loss', 'accuracy', 'precision_4', 'recall_4', 'val_loss', 'val_accuracy', 'val_precision_4', 'val_recall_4'])\n"
     ]
    },
    {
     "data": {
      "image/png": "[encoded data removed]",
      "text/plain": [
       "<Figure size 432x288 with 1 Axes>"
      ]
     },
     "metadata": {
      "needs_background": "light"
     },
     "output_type": "display_data"
    },
    {
     "data": {
      "image/png": "[encoded data removed]",
      "text/plain": [
       "<Figure size 432x288 with 1 Axes>"
      ]
     },
     "metadata": {
      "needs_background": "light"
     },
     "output_type": "display_data"
    }
   ],
   "source": [
    "plot_history(history_reg)"
   ]
  },
  {
   "cell_type": "code",
   "execution_count": 103,
   "id": "7cf180d5-aaf9-4614-bfb6-12e1b64d70ff",
   "metadata": {},
   "outputs": [
    {
     "name": "stdout",
     "output_type": "stream",
     "text": [
      "Model: \"sequential_11\"\n",
      "_________________________________________________________________\n",
      " Layer (type)                Output Shape              Param #   \n",
      "=================================================================\n",
      " conv2d_35 (Conv2D)          (None, 48, 48, 32)        896       \n",
      "                                                                 \n",
      " batch_normalization_50 (Bat  (None, 48, 48, 32)       128       \n",
      " chNormalization)                                                \n",
      "                                                                 \n",
      " max_pooling2d_34 (MaxPoolin  (None, 24, 24, 32)       0         \n",
      " g2D)                                                            \n",
      "                                                                 \n",
      " conv2d_36 (Conv2D)          (None, 22, 22, 64)        18496     \n",
      "                                                                 \n",
      " batch_normalization_51 (Bat  (None, 22, 22, 64)       256       \n",
      " chNormalization)                                                \n",
      "                                                                 \n",
      " max_pooling2d_35 (MaxPoolin  (None, 11, 11, 64)       0         \n",
      " g2D)                                                            \n",
      "                                                                 \n",
      " conv2d_37 (Conv2D)          (None, 9, 9, 128)         73856     \n",
      "                                                                 \n",
      " batch_normalization_52 (Bat  (None, 9, 9, 128)        512       \n",
      " chNormalization)                                                \n",
      "                                                                 \n",
      " dropout_8 (Dropout)         (None, 9, 9, 128)         0         \n",
      "                                                                 \n",
      " max_pooling2d_36 (MaxPoolin  (None, 4, 4, 128)        0         \n",
      " g2D)                                                            \n",
      "                                                                 \n",
      " flatten_11 (Flatten)        (None, 2048)              0         \n",
      "                                                                 \n",
      " dense_22 (Dense)            (None, 512)               1049088   \n",
      "                                                                 \n",
      " dropout_9 (Dropout)         (None, 512)               0         \n",
      "                                                                 \n",
      " dense_23 (Dense)            (None, 1)                 513       \n",
      "                                                                 \n",
      "=================================================================\n",
      "Total params: 1,143,745\n",
      "Trainable params: 1,143,297\n",
      "Non-trainable params: 448\n",
      "_________________________________________________________________\n"
     ]
    }
   ],
   "source": [
    "# Define a classical CNN architecture: conv -> max pool\n",
    "def model_with_regularization():\n",
    "    # build and train a quite simple CNN binary classification model\n",
    "    model = tf.keras.models.Sequential([\n",
    "    tf.keras.layers.Conv2D(32, (3,3), activation='relu', input_shape=(IMAGE_WIDTH, IMAGE_LENGTH, 3)),\n",
    "    tf.keras.layers.BatchNormalization(),    \n",
    "    tf.keras.layers.MaxPooling2D(2,2),\n",
    "\n",
    "    tf.keras.layers.Conv2D(64, (3,3), activation='relu', input_shape=(IMAGE_WIDTH, IMAGE_LENGTH, 3)),\n",
    "    tf.keras.layers.BatchNormalization(),\n",
    "    tf.keras.layers.MaxPooling2D(2,2),\n",
    "\n",
    "    tf.keras.layers.Conv2D(128, (3,3), activation='relu', input_shape=(IMAGE_WIDTH, IMAGE_LENGTH, 3)),\n",
    "    tf.keras.layers.BatchNormalization(),\n",
    "    tf.keras.layers.Dropout(0.3),\n",
    "\n",
    "    tf.keras.layers.MaxPooling2D(2,2),\n",
    "    tf.keras.layers.Flatten(),\n",
    "\n",
    "    tf.keras.layers.Dense(512, activation='relu'),\n",
    "    tf.keras.layers.Dropout(0.2),\n",
    "    tf.keras.layers.Dense(1, activation='sigmoid')])\n",
    "\n",
    "    return model\n",
    "\n",
    "model_reg2 = model_with_regularization()\n",
    "model_reg2.summary()"
   ]
  },
  {
   "cell_type": "code",
   "execution_count": 104,
   "id": "5c182111-eac3-41db-9cd6-b9ce36cf2f6f",
   "metadata": {},
   "outputs": [],
   "source": [
    "from keras.metrics import Precision, Recall\n",
    "model_reg2.compile(loss='binary_crossentropy', optimizer=tf.keras.optimizers.Adam(0.0001), metrics= ['accuracy', Precision(), Recall()])"
   ]
  },
  {
   "cell_type": "code",
   "execution_count": 105,
   "id": "803d39c0-5e8c-4dd6-9abb-bc8701154c4c",
   "metadata": {},
   "outputs": [
    {
     "name": "stdout",
     "output_type": "stream",
     "text": [
      "Epoch 1/20\n",
      "2955/2955 [==============================] - 208s 70ms/step - loss: 0.4447 - accuracy: 0.8087 - precision_12: 0.8125 - recall_12: 0.8025 - val_loss: 0.4879 - val_accuracy: 0.8097 - val_precision_12: 0.7612 - val_recall_12: 0.9025\n",
      "Epoch 2/20\n",
      "2955/2955 [==============================] - 165s 56ms/step - loss: 0.3943 - accuracy: 0.8312 - precision_12: 0.8298 - recall_12: 0.8332 - val_loss: 0.4815 - val_accuracy: 0.8282 - val_precision_12: 0.8572 - val_recall_12: 0.7877\n",
      "Epoch 3/20\n",
      "2955/2955 [==============================] - 123s 41ms/step - loss: 0.3807 - accuracy: 0.8368 - precision_12: 0.8364 - recall_12: 0.8373 - val_loss: 0.4198 - val_accuracy: 0.8397 - val_precision_12: 0.8256 - val_recall_12: 0.8612\n",
      "Epoch 4/20\n",
      "2955/2955 [==============================] - 121s 41ms/step - loss: 0.3703 - accuracy: 0.8423 - precision_12: 0.8412 - recall_12: 0.8440 - val_loss: 0.5288 - val_accuracy: 0.8250 - val_precision_12: 0.8593 - val_recall_12: 0.7773\n",
      "Epoch 5/20\n",
      "2955/2955 [==============================] - 120s 41ms/step - loss: 0.3649 - accuracy: 0.8443 - precision_12: 0.8422 - recall_12: 0.8474 - val_loss: 0.4479 - val_accuracy: 0.8352 - val_precision_12: 0.7990 - val_recall_12: 0.8957\n",
      "Epoch 6/20\n",
      "2955/2955 [==============================] - 126s 43ms/step - loss: 0.3594 - accuracy: 0.8484 - precision_12: 0.8465 - recall_12: 0.8513 - val_loss: 0.5439 - val_accuracy: 0.8384 - val_precision_12: 0.8493 - val_recall_12: 0.8228\n",
      "Epoch 7/20\n",
      "2955/2955 [==============================] - 119s 40ms/step - loss: 0.3551 - accuracy: 0.8499 - precision_12: 0.8477 - recall_12: 0.8531 - val_loss: 0.4225 - val_accuracy: 0.8450 - val_precision_12: 0.8353 - val_recall_12: 0.8594\n",
      "Epoch 8/20\n",
      "2955/2955 [==============================] - 151s 51ms/step - loss: 0.3518 - accuracy: 0.8520 - precision_12: 0.8495 - recall_12: 0.8555 - val_loss: 0.4352 - val_accuracy: 0.8483 - val_precision_12: 0.8252 - val_recall_12: 0.8839\n",
      "Epoch 9/20\n",
      "2955/2955 [==============================] - 184s 62ms/step - loss: 0.3472 - accuracy: 0.8525 - precision_12: 0.8504 - recall_12: 0.8557 - val_loss: 0.4197 - val_accuracy: 0.8502 - val_precision_12: 0.8567 - val_recall_12: 0.8410\n",
      "Epoch 10/20\n",
      "2955/2955 [==============================] - 189s 64ms/step - loss: 0.3447 - accuracy: 0.8549 - precision_12: 0.8512 - recall_12: 0.8601 - val_loss: 0.4528 - val_accuracy: 0.8488 - val_precision_12: 0.8521 - val_recall_12: 0.8440\n",
      "Epoch 11/20\n",
      "2955/2955 [==============================] - 153s 52ms/step - loss: 0.3414 - accuracy: 0.8557 - precision_12: 0.8534 - recall_12: 0.8588 - val_loss: 0.4440 - val_accuracy: 0.8392 - val_precision_12: 0.8843 - val_recall_12: 0.7806\n",
      "Epoch 12/20\n",
      "2955/2955 [==============================] - 169s 57ms/step - loss: 0.3381 - accuracy: 0.8582 - precision_12: 0.8555 - recall_12: 0.8620 - val_loss: 0.4833 - val_accuracy: 0.8538 - val_precision_12: 0.8529 - val_recall_12: 0.8550\n",
      "Epoch 13/20\n",
      "2955/2955 [==============================] - 124s 42ms/step - loss: 0.3364 - accuracy: 0.8576 - precision_12: 0.8545 - recall_12: 0.8621 - val_loss: 0.4453 - val_accuracy: 0.8488 - val_precision_12: 0.8660 - val_recall_12: 0.8254\n",
      "Epoch 14/20\n",
      "2955/2955 [==============================] - 120s 41ms/step - loss: 0.3343 - accuracy: 0.8586 - precision_12: 0.8553 - recall_12: 0.8632 - val_loss: 0.4916 - val_accuracy: 0.8423 - val_precision_12: 0.8243 - val_recall_12: 0.8699\n",
      "Epoch 15/20\n",
      "2955/2955 [==============================] - 113s 38ms/step - loss: 0.3335 - accuracy: 0.8596 - precision_12: 0.8560 - recall_12: 0.8645 - val_loss: 0.4185 - val_accuracy: 0.8514 - val_precision_12: 0.8385 - val_recall_12: 0.8706\n",
      "Epoch 16/20\n",
      "2955/2955 [==============================] - 115s 39ms/step - loss: 0.3311 - accuracy: 0.8616 - precision_12: 0.8586 - recall_12: 0.8659 - val_loss: 0.4133 - val_accuracy: 0.8485 - val_precision_12: 0.8307 - val_recall_12: 0.8755\n",
      "Epoch 17/20\n",
      "2955/2955 [==============================] - 5095s 2s/step - loss: 0.3281 - accuracy: 0.8621 - precision_12: 0.8589 - recall_12: 0.8665 - val_loss: 0.5452 - val_accuracy: 0.8321 - val_precision_12: 0.8573 - val_recall_12: 0.7969\n"
     ]
    }
   ],
   "source": [
    "# Add callback for early stopping\n",
    "es_callback = tf.keras.callbacks.EarlyStopping(\n",
    "    monitor='val_accuracy',\n",
    "    patience=5,\n",
    "    mode='auto',\n",
    "    baseline=None,\n",
    "    restore_best_weights=True\n",
    ")\n",
    "\n",
    "history_reg2 = model_reg2.fit(train_generator,\n",
    "    epochs=20,\n",
    "    verbose=1,\n",
    "    validation_data = validation_generator,\n",
    "    callbacks=[es_callback]\n",
    ")"
   ]
  },
  {
   "cell_type": "code",
   "execution_count": 52,
   "id": "0c4bffbc-9beb-4d1a-8276-06158894615f",
   "metadata": {},
   "outputs": [
    {
     "name": "stdout",
     "output_type": "stream",
     "text": [
      "dict_keys(['loss', 'accuracy', 'precision_6', 'recall_6', 'val_loss', 'val_accuracy', 'val_precision_6', 'val_recall_6'])\n"
     ]
    },
    {
     "data": {
      "image/png": "[encoded data removed]",
      "text/plain": [
       "<Figure size 432x288 with 1 Axes>"
      ]
     },
     "metadata": {
      "needs_background": "light"
     },
     "output_type": "display_data"
    },
    {
     "data": {
      "image/png": "[encoded data removed]",
      "text/plain": [
       "<Figure size 432x288 with 1 Axes>"
      ]
     },
     "metadata": {
      "needs_background": "light"
     },
     "output_type": "display_data"
    }
   ],
   "source": [
    "plot_history(history_reg)"
   ]
  },
  {
   "cell_type": "code",
   "execution_count": 43,
   "id": "a6642585-e702-4191-b185-ac81baf07374",
   "metadata": {},
   "outputs": [
    {
     "name": "stdout",
     "output_type": "stream",
     "text": [
      "dict_keys(['loss', 'accuracy', 'precision_4', 'recall_4', 'val_loss', 'val_accuracy', 'val_precision_4', 'val_recall_4'])\n"
     ]
    },
    {
     "data": {
      "image/png": "[encoded data removed]",
      "text/plain": [
       "<Figure size 432x288 with 1 Axes>"
      ]
     },
     "metadata": {
      "needs_background": "light"
     },
     "output_type": "display_data"
    },
    {
     "data": {
      "image/png": "[encoded data removed]",
      "text/plain": [
       "<Figure size 432x288 with 1 Axes>"
      ]
     },
     "metadata": {
      "needs_background": "light"
     },
     "output_type": "display_data"
    }
   ],
   "source": [
    "plot_history(history_reg)"
   ]
  },
  {
   "cell_type": "code",
   "execution_count": 43,
   "id": "6d6ba0f4-0118-4d66-928a-f905e86009de",
   "metadata": {},
   "outputs": [
    {
     "name": "stdout",
     "output_type": "stream",
     "text": [
      "dict_keys(['loss', 'accuracy', 'precision_4', 'recall_4', 'val_loss', 'val_accuracy', 'val_precision_4', 'val_recall_4'])\n"
     ]
    },
    {
     "data": {
      "image/png": "[encoded data removed]",
      "text/plain": [
       "<Figure size 432x288 with 1 Axes>"
      ]
     },
     "metadata": {
      "needs_background": "light"
     },
     "output_type": "display_data"
    },
    {
     "data": {
      "image/png": "[encoded data removed]",
      "text/plain": [
       "<Figure size 432x288 with 1 Axes>"
      ]
     },
     "metadata": {
      "needs_background": "light"
     },
     "output_type": "display_data"
    }
   ],
   "source": [
    "plot_history(history_reg)"
   ]
  },
  {
   "cell_type": "code",
   "execution_count": 55,
   "id": "5cc4d35d-6134-4056-a2e7-119f0ab87bab",
   "metadata": {},
   "outputs": [
    {
     "name": "stdout",
     "output_type": "stream",
     "text": [
      "985/985 [==============================] - 93s 94ms/step - loss: 0.3508 - accuracy: 0.8574 - precision_6: 0.8388 - recall_6: 0.8848\n"
     ]
    },
    {
     "data": {
      "text/plain": [
       "[0.3507586121559143,\n",
       " 0.8573694825172424,\n",
       " 0.8387678861618042,\n",
       " 0.8848130702972412]"
      ]
     },
     "execution_count": 55,
     "metadata": {},
     "output_type": "execute_result"
    }
   ],
   "source": [
    "model_reg.evaluate(test_generator)\n"
   ]
  },
  {
   "cell_type": "code",
   "execution_count": 54,
   "id": "352a08ce-09b3-46d3-adb5-ad2909febe8b",
   "metadata": {},
   "outputs": [],
   "source": [
    "# Save the model\n",
    "model_reg.save('model_with_regularization.h5')\n",
    "#Load the model\n",
    "#model = tf.keras.models.load_model('classical_model.h5')"
   ]
  },
  {
   "cell_type": "code",
   "execution_count": 59,
   "id": "37413738-b720-4152-a8e9-306f1c6c138b",
   "metadata": {},
   "outputs": [],
   "source": [
    "import pickle\n",
    "\n",
    "with open('model_reg_hist', 'wb') as file_pi:\n",
    "    pickle.dump(history.history, file_pi)"
   ]
  },
  {
   "cell_type": "code",
   "execution_count": null,
   "id": "3e213996-2641-43b1-81ad-1886b58c5649",
   "metadata": {},
   "outputs": [],
   "source": []
  },
  {
   "cell_type": "code",
   "execution_count": null,
   "id": "3bcbfd81-0638-46dd-a081-77d1d518e696",
   "metadata": {},
   "outputs": [],
   "source": [
    "# https://towardsdatascience.com/transfer-learning-using-mobilenet-and-keras-c75daf7ff299\n",
    "from tensorflow.keras.applications import MobileNetV2"
   ]
  },
  {
   "cell_type": "code",
   "execution_count": null,
   "id": "d940f7fb-e610-4177-a849-51937e0c02bd",
   "metadata": {},
   "outputs": [],
   "source": [
    "#load data from DataFrame see https://www.tensorflow.org/api_docs/python/tf/keras/preprocessing/image/ImageDataGenerator#flow_from_dataframe\n",
    "from tensorflow.keras.preprocessing.image import ImageDataGenerator\n",
    "train_generator = ImageDataGenerator(\n",
    "    preprocessing_function = preprocess_input,\n",
    "    rotation_range=20,\n",
    "    width_shift_range=0.2,\n",
    "    height_shift_range=0.2,\n",
    "    horizontal_flip=True,\n",
    "    vertical_flip=True                                                   \n",
    ").flow_from_dataframe(dataframe = train, x_col = 'path', y_col='class', class_mode = 'binary',target_size=(50, 50), batch_size=32)\n"
   ]
  },
  {
   "cell_type": "code",
   "execution_count": null,
   "id": "2eea798c-db42-42cb-9d73-668d938f963b",
   "metadata": {},
   "outputs": [],
   "source": [
    "# Define a classical CNN architecture: conv -> max pool\n",
    "def mobilenet_model():\n",
    "    #based on https://towardsdatascience.com/transfer-learning-using-mobilenet-and-keras-c75daf7ff299\n",
    "    base_model=MobileNet(weights='imagenet',include_top=False) #imports the mobilenet model and discards the last 1000 neuron layer.\n",
    "    x=base_model.output\n",
    "    x=GlobalAveragePooling2D()(x)\n",
    "    x=Dense(1024,activation='relu')(x) #we add dense layers so that the model can learn more complex functions and classify for better results.\n",
    "    x=Dense(1024,activation='relu')(x) #dense layer 2\n",
    "    x=Dense(512,activation='relu')(x) #dense layer 3\n",
    "    preds=Dense(1,activation= activation='sigmoid')(x) #final layer with softmax activation    \n",
    "    \n",
    "    model=Model(inputs=base_model.input,outputs=preds)\n",
    "\n",
    "    for layer in model.layers[:20]:\n",
    "        layer.trainable=False\n",
    "    for layer in model.layers[20:]:\n",
    "        layer.trainable=True    \n",
    "    \n",
    "    return model\n",
    "\n",
    "mob_model = mobilenet_model()\n",
    "mob_model.summary()"
   ]
  },
  {
   "cell_type": "code",
   "execution_count": null,
   "id": "74267a31-8986-4666-9a7f-81461fd8cab7",
   "metadata": {},
   "outputs": [],
   "source": [
    "mob_model.compile(loss='binary_crossentropy', optimizer=tf.keras.optimizers.Adam(), metrics= ['accuracy', Precision(), Recall()])\n"
   ]
  },
  {
   "cell_type": "code",
   "execution_count": null,
   "id": "2e868b13-2a91-402a-90e4-db8c61d44c56",
   "metadata": {},
   "outputs": [],
   "source": [
    "# Add callback for early stopping\n",
    "es_callback = tf.keras.callbacks.EarlyStopping(\n",
    "    monitor='val_accuracy',\n",
    "    patience=20,\n",
    "    mode='auto',\n",
    "    baseline=None,\n",
    "    restore_best_weights=True\n",
    ")\n",
    "\n",
    "mob_history = mob_model.fit(train_generator,\n",
    "    epochs=100,\n",
    "    steps_per_epoch=len(train) / 32, \n",
    "    verbose=1,\n",
    "    shuffle = True,\n",
    "    validation_data = validation_generator,\n",
    "    callbacks=[es_callback]\n",
    ")"
   ]
  },
  {
   "cell_type": "code",
   "execution_count": null,
   "id": "a91933c5",
   "metadata": {},
   "outputs": [],
   "source": []
  },
  {
   "cell_type": "code",
   "execution_count": null,
   "id": "b1f207b3",
   "metadata": {},
   "outputs": [],
   "source": [
    "def m2tex(model):\n",
    "    stringlist = []\n",
    "    model.summary(line_length=70, print_fn=lambda x: stringlist.append(x))\n",
    "    del stringlist[1:-4:2]\n",
    "    del stringlist[-1]\n",
    "    for ix in range(1,len(stringlist)-3):\n",
    "        tmp = stringlist[ix]\n",
    "        stringlist[ix] = tmp[0:31]+\"& \"+tmp[31:59]+\"& \"+tmp[59:]+\"\\\\\\\\ \\hline\"\n",
    "    stringlist[0] = \"Model: test \\\\\\\\ \\hline\"\n",
    "    stringlist[1] = stringlist[1]+\" \\hline\"\n",
    "    stringlist[-4] = stringlist[-4]+\" \\hline\"\n",
    "    stringlist[-3] = stringlist[-3]+\" \\\\\\\\\"\n",
    "    stringlist[-2] = stringlist[-2]+\" \\\\\\\\\"\n",
    "    stringlist[-1] = stringlist[-1]+\" \\\\\\\\ \\hline\"\n",
    "    prefix = [\"\\\\begin{table}[]\", \"\\\\begin{tabular}{lll}\"]\n",
    "    suffix = [\"\\end{tabular}\", \"\\caption{Model summary for test.}\", \"\\label{tab:model-summary}\" , \"\\end{table}\"]\n",
    "    stringlist = prefix + stringlist + suffix \n",
    "    out_str = \" \\n\".join(stringlist)\n",
    "    out_str = out_str.replace(\"_\", \"\\_\")\n",
    "    out_str = out_str.replace(\"#\", \"\\#\")\n",
    "    print(out_str)"
   ]
  }
 ],
 "metadata": {
  "kernelspec": {
   "display_name": "Python 3 (ipykernel)",
   "language": "python",
   "name": "python3"
  },
  "language_info": {
   "codemirror_mode": {
    "name": "ipython",
    "version": 3
   },
   "file_extension": ".py",
   "mimetype": "text/x-python",
   "name": "python",
   "nbconvert_exporter": "python",
   "pygments_lexer": "ipython3",
   "version": "3.9.7"
  }
 },
 "nbformat": 4,
 "nbformat_minor": 5
}
