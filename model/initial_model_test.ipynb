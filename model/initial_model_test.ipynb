{
 "cells": [
  {
   "cell_type": "code",
   "execution_count": 2,
   "id": "e2f28576-6293-4dbc-927a-b5ebfbfd3f86",
   "metadata": {},
   "outputs": [],
   "source": [
    "#Initial test of basic model with Breast Cancer Dataset\n",
    "#Make sure that the parent folder of Initial Model is within the same directory as the Data Folder with all the images\n",
    "\"\"\"\n",
    "Example:\n",
    "+ Data\n",
    "+ DashApp\n",
    "  |--- InitialModel\n",
    "        |--- initial_model_test.ipynb\n",
    "\"\"\"\n",
    "#Comment this to use GPU\n",
    "import os\n",
    "os.environ[\"CUDA_VISIBLE_DEVICES\"] = \"-1\" #Remove tis line if you have a GPU device"
   ]
  },
  {
   "cell_type": "code",
   "execution_count": 3,
   "id": "f379774b-9c3c-450f-baad-2f2486eae505",
   "metadata": {},
   "outputs": [],
   "source": [
    "import os\n",
    "#Global variables\n",
    "DATA_PATH = os.path.join(\"..\",\"..\",\"Data\")\n",
    "RANDOM_SEED = 42\n",
    "TEST_FRACTION = 0.2 # Just for initial test it must be something like 0.2\n",
    "VALIDATION_FRACTION = 0.2 # Use the 20% of the non test samples to build the validation set (the remaining is the Test Set)\n",
    "# Input patches are 50X50\n",
    "IMAGE_WIDTH = 50 \n",
    "IMAGE_LENGTH = 50"
   ]
  },
  {
   "cell_type": "code",
   "execution_count": 4,
   "id": "d2d3d704-f520-497b-9925-2b170e6d1f9c",
   "metadata": {},
   "outputs": [],
   "source": [
    "import numpy as np\n",
    "np.random.seed(RANDOM_SEED)\n",
    "import tensorflow as tf\n",
    "tf.random.set_seed(RANDOM_SEED)\n",
    "# RMSprop optimizer - Perhaps Prove with Adam\n",
    "from tensorflow.keras.optimizers import RMSprop \n",
    "import pandas as pd\n",
    "from sklearn.model_selection import train_test_split\n",
    "import glob"
   ]
  },
  {
   "cell_type": "code",
   "execution_count": 5,
   "id": "63aaf9a6-c4a6-40e8-adc2-e6ffb896a810",
   "metadata": {},
   "outputs": [],
   "source": [
    "# read all patches\n",
    "patches = []\n",
    "for path in glob.glob(os.path.join(DATA_PATH,'**/*class*.png'), recursive = True):\n",
    "    patches.append(path)"
   ]
  },
  {
   "cell_type": "code",
   "execution_count": 6,
   "id": "e2b821c3-81b4-4f97-bbf6-8370cb3403e7",
   "metadata": {},
   "outputs": [
    {
     "data": {
      "text/html": [
       "<div>\n",
       "<style scoped>\n",
       "    .dataframe tbody tr th:only-of-type {\n",
       "        vertical-align: middle;\n",
       "    }\n",
       "\n",
       "    .dataframe tbody tr th {\n",
       "        vertical-align: top;\n",
       "    }\n",
       "\n",
       "    .dataframe thead th {\n",
       "        text-align: right;\n",
       "    }\n",
       "</style>\n",
       "<table border=\"1\" class=\"dataframe\">\n",
       "  <thead>\n",
       "    <tr style=\"text-align: right;\">\n",
       "      <th></th>\n",
       "      <th>path</th>\n",
       "      <th>id</th>\n",
       "      <th>x</th>\n",
       "      <th>y</th>\n",
       "      <th>class</th>\n",
       "    </tr>\n",
       "  </thead>\n",
       "  <tbody>\n",
       "    <tr>\n",
       "      <th>0</th>\n",
       "      <td>..\\..\\Data\\12748\\0\\12748_idx5_x401_y651_class0...</td>\n",
       "      <td>5</td>\n",
       "      <td>401</td>\n",
       "      <td>651</td>\n",
       "      <td>0</td>\n",
       "    </tr>\n",
       "    <tr>\n",
       "      <th>1</th>\n",
       "      <td>..\\..\\Data\\12751\\1\\12751_idx5_x2351_y1401_clas...</td>\n",
       "      <td>5</td>\n",
       "      <td>2351</td>\n",
       "      <td>1401</td>\n",
       "      <td>1</td>\n",
       "    </tr>\n",
       "    <tr>\n",
       "      <th>2</th>\n",
       "      <td>..\\..\\Data\\13694\\1\\13694_idx5_x1301_y1651_clas...</td>\n",
       "      <td>5</td>\n",
       "      <td>1301</td>\n",
       "      <td>1651</td>\n",
       "      <td>1</td>\n",
       "    </tr>\n",
       "    <tr>\n",
       "      <th>3</th>\n",
       "      <td>..\\..\\Data\\10272\\0\\10272_idx5_x2501_y1151_clas...</td>\n",
       "      <td>5</td>\n",
       "      <td>2501</td>\n",
       "      <td>1151</td>\n",
       "      <td>0</td>\n",
       "    </tr>\n",
       "    <tr>\n",
       "      <th>4</th>\n",
       "      <td>..\\..\\Data\\12949\\1\\12949_idx5_x1251_y1651_clas...</td>\n",
       "      <td>5</td>\n",
       "      <td>1251</td>\n",
       "      <td>1651</td>\n",
       "      <td>1</td>\n",
       "    </tr>\n",
       "    <tr>\n",
       "      <th>...</th>\n",
       "      <td>...</td>\n",
       "      <td>...</td>\n",
       "      <td>...</td>\n",
       "      <td>...</td>\n",
       "      <td>...</td>\n",
       "    </tr>\n",
       "    <tr>\n",
       "      <th>157567</th>\n",
       "      <td>..\\..\\Data\\8917\\1\\8917_idx5_x501_y851_class1.png</td>\n",
       "      <td>5</td>\n",
       "      <td>501</td>\n",
       "      <td>851</td>\n",
       "      <td>1</td>\n",
       "    </tr>\n",
       "    <tr>\n",
       "      <th>157568</th>\n",
       "      <td>..\\..\\Data\\12951\\1\\12951_idx5_x1801_y1851_clas...</td>\n",
       "      <td>5</td>\n",
       "      <td>1801</td>\n",
       "      <td>1851</td>\n",
       "      <td>1</td>\n",
       "    </tr>\n",
       "    <tr>\n",
       "      <th>157569</th>\n",
       "      <td>..\\..\\Data\\10279\\1\\10279_idx5_x2301_y1401_clas...</td>\n",
       "      <td>5</td>\n",
       "      <td>2301</td>\n",
       "      <td>1401</td>\n",
       "      <td>1</td>\n",
       "    </tr>\n",
       "    <tr>\n",
       "      <th>157570</th>\n",
       "      <td>..\\..\\Data\\14304\\1\\14304_idx5_x801_y151_class1...</td>\n",
       "      <td>5</td>\n",
       "      <td>801</td>\n",
       "      <td>151</td>\n",
       "      <td>1</td>\n",
       "    </tr>\n",
       "    <tr>\n",
       "      <th>157571</th>\n",
       "      <td>..\\..\\Data\\14156\\1\\14156_idx5_x2251_y2051_clas...</td>\n",
       "      <td>5</td>\n",
       "      <td>2251</td>\n",
       "      <td>2051</td>\n",
       "      <td>1</td>\n",
       "    </tr>\n",
       "  </tbody>\n",
       "</table>\n",
       "<p>157572 rows × 5 columns</p>\n",
       "</div>"
      ],
      "text/plain": [
       "                                                     path id     x     y class\n",
       "0       ..\\..\\Data\\12748\\0\\12748_idx5_x401_y651_class0...  5   401   651     0\n",
       "1       ..\\..\\Data\\12751\\1\\12751_idx5_x2351_y1401_clas...  5  2351  1401     1\n",
       "2       ..\\..\\Data\\13694\\1\\13694_idx5_x1301_y1651_clas...  5  1301  1651     1\n",
       "3       ..\\..\\Data\\10272\\0\\10272_idx5_x2501_y1151_clas...  5  2501  1151     0\n",
       "4       ..\\..\\Data\\12949\\1\\12949_idx5_x1251_y1651_clas...  5  1251  1651     1\n",
       "...                                                   ... ..   ...   ...   ...\n",
       "157567   ..\\..\\Data\\8917\\1\\8917_idx5_x501_y851_class1.png  5   501   851     1\n",
       "157568  ..\\..\\Data\\12951\\1\\12951_idx5_x1801_y1851_clas...  5  1801  1851     1\n",
       "157569  ..\\..\\Data\\10279\\1\\10279_idx5_x2301_y1401_clas...  5  2301  1401     1\n",
       "157570  ..\\..\\Data\\14304\\1\\14304_idx5_x801_y151_class1...  5   801   151     1\n",
       "157571  ..\\..\\Data\\14156\\1\\14156_idx5_x2251_y2051_clas...  5  2251  2051     1\n",
       "\n",
       "[157572 rows x 5 columns]"
      ]
     },
     "execution_count": 6,
     "metadata": {},
     "output_type": "execute_result"
    }
   ],
   "source": [
    "def createDataFrame():\n",
    "    # Keep info within a Pandas dataframe\n",
    "    data = pd.DataFrame({\"path\" : patches})\n",
    "    # Obtain patient information by spliting the filename\n",
    "    series_info = data[\"path\"].str.split(\"idx\").str[1].str.split(\"_\")\n",
    "    data['id'] = series_info.str[0] # this get the idx portion\n",
    "    data['x'] = series_info.str[1].str[1:] # this get the x coord\n",
    "    data['y'] = series_info.str[2].str[1:] # this get the y coord\n",
    "    data['class'] = series_info.str[3] # this get the class\n",
    "    data['class'] = data[\"class\"].map({\"class0.png\" : \"0\" , \"class1.png\" : \"1\"}) #map to a number\n",
    "    # Get the total number of registers from the class with the least number of samples \n",
    "    number_samples = min(data['class'].value_counts())    \n",
    "    \n",
    "    balanced_data = data[data['class'] == '0'].sample(n=number_samples, random_state=RANDOM_SEED, ignore_index=True)\n",
    "    balanced_data = pd.concat([balanced_data, data[data['class'] == '1'].sample(n=number_samples, random_state=RANDOM_SEED, ignore_index=True)], ignore_index=True)\n",
    "    \n",
    "    balanced_data = balanced_data.sample(frac=1, random_state=RANDOM_SEED).reset_index(drop=True)\n",
    "\n",
    "    # sample the dataframe in such way that the data per class is balanced (same number of samples)\n",
    "    return balanced_data\n",
    "df = createDataFrame()\n",
    "df"
   ]
  },
  {
   "cell_type": "code",
   "execution_count": 7,
   "id": "3f4cfc5d-6e0e-44e4-9cf1-71fe0537402c",
   "metadata": {},
   "outputs": [],
   "source": [
    "# Split data into train and test sets\n",
    "train_val, test = train_test_split(df, test_size=TEST_FRACTION, random_state=RANDOM_SEED, stratify=df['class'])\n",
    "# Split train_val into train and validation\n",
    "train, validation = train_test_split(train_val, test_size=VALIDATION_FRACTION, random_state=RANDOM_SEED, stratify=train_val['class'])\n"
   ]
  },
  {
   "cell_type": "code",
   "execution_count": 8,
   "id": "d4800e79-427c-49cc-ae58-d20c375d59b5",
   "metadata": {},
   "outputs": [
    {
     "name": "stdout",
     "output_type": "stream",
     "text": [
      "Train samples:  100845 class 0: 50422 class 1: 50423\n",
      "Validation samples:  25212 class 0: 12606 class 1: 12606\n",
      "Test samples:  31515 class 0: 15758 class 1: 15757\n"
     ]
    }
   ],
   "source": [
    "print(\"Train samples: \", len(train), \"class 0:\", len(train[train['class'] == '0']), \"class 1:\", len(train[train['class'] == '1']))\n",
    "print(\"Validation samples: \", len(validation), \"class 0:\", len(validation[validation['class'] == '0']), \"class 1:\", len(validation[validation['class'] == '1']))\n",
    "print(\"Test samples: \", len(test), \"class 0:\", len(test[test['class'] == '0']), \"class 1:\", len(test[test['class'] == '1']))"
   ]
  },
  {
   "cell_type": "code",
   "execution_count": 9,
   "id": "1284db37-f6c4-40dd-82f1-e5fa975af84d",
   "metadata": {},
   "outputs": [
    {
     "data": {
      "text/html": [
       "<div>\n",
       "<style scoped>\n",
       "    .dataframe tbody tr th:only-of-type {\n",
       "        vertical-align: middle;\n",
       "    }\n",
       "\n",
       "    .dataframe tbody tr th {\n",
       "        vertical-align: top;\n",
       "    }\n",
       "\n",
       "    .dataframe thead th {\n",
       "        text-align: right;\n",
       "    }\n",
       "</style>\n",
       "<table border=\"1\" class=\"dataframe\">\n",
       "  <thead>\n",
       "    <tr style=\"text-align: right;\">\n",
       "      <th></th>\n",
       "      <th>path</th>\n",
       "      <th>id</th>\n",
       "      <th>x</th>\n",
       "      <th>y</th>\n",
       "      <th>class</th>\n",
       "    </tr>\n",
       "  </thead>\n",
       "  <tbody>\n",
       "    <tr>\n",
       "      <th>13813</th>\n",
       "      <td>..\\..\\Data\\9078\\0\\9078_idx5_x1251_y1851_class0...</td>\n",
       "      <td>5</td>\n",
       "      <td>1251</td>\n",
       "      <td>1851</td>\n",
       "      <td>0</td>\n",
       "    </tr>\n",
       "    <tr>\n",
       "      <th>148948</th>\n",
       "      <td>..\\..\\Data\\15903\\1\\15903_idx5_x1351_y1351_clas...</td>\n",
       "      <td>5</td>\n",
       "      <td>1351</td>\n",
       "      <td>1351</td>\n",
       "      <td>1</td>\n",
       "    </tr>\n",
       "    <tr>\n",
       "      <th>141717</th>\n",
       "      <td>..\\..\\Data\\10273\\1\\10273_idx5_x2351_y2151_clas...</td>\n",
       "      <td>5</td>\n",
       "      <td>2351</td>\n",
       "      <td>2151</td>\n",
       "      <td>1</td>\n",
       "    </tr>\n",
       "    <tr>\n",
       "      <th>49520</th>\n",
       "      <td>..\\..\\Data\\16551\\0\\16551_idx5_x1801_y2451_clas...</td>\n",
       "      <td>5</td>\n",
       "      <td>1801</td>\n",
       "      <td>2451</td>\n",
       "      <td>0</td>\n",
       "    </tr>\n",
       "    <tr>\n",
       "      <th>52377</th>\n",
       "      <td>..\\..\\Data\\10273\\1\\10273_idx5_x2151_y851_class...</td>\n",
       "      <td>5</td>\n",
       "      <td>2151</td>\n",
       "      <td>851</td>\n",
       "      <td>1</td>\n",
       "    </tr>\n",
       "  </tbody>\n",
       "</table>\n",
       "</div>"
      ],
      "text/plain": [
       "                                                     path id     x     y class\n",
       "13813   ..\\..\\Data\\9078\\0\\9078_idx5_x1251_y1851_class0...  5  1251  1851     0\n",
       "148948  ..\\..\\Data\\15903\\1\\15903_idx5_x1351_y1351_clas...  5  1351  1351     1\n",
       "141717  ..\\..\\Data\\10273\\1\\10273_idx5_x2351_y2151_clas...  5  2351  2151     1\n",
       "49520   ..\\..\\Data\\16551\\0\\16551_idx5_x1801_y2451_clas...  5  1801  2451     0\n",
       "52377   ..\\..\\Data\\10273\\1\\10273_idx5_x2151_y851_class...  5  2151   851     1"
      ]
     },
     "execution_count": 9,
     "metadata": {},
     "output_type": "execute_result"
    }
   ],
   "source": [
    "train.head()"
   ]
  },
  {
   "cell_type": "code",
   "execution_count": 10,
   "id": "b0bc26ab-92fc-4979-8916-41e76a70632c",
   "metadata": {},
   "outputs": [
    {
     "data": {
      "text/html": [
       "<div>\n",
       "<style scoped>\n",
       "    .dataframe tbody tr th:only-of-type {\n",
       "        vertical-align: middle;\n",
       "    }\n",
       "\n",
       "    .dataframe tbody tr th {\n",
       "        vertical-align: top;\n",
       "    }\n",
       "\n",
       "    .dataframe thead th {\n",
       "        text-align: right;\n",
       "    }\n",
       "</style>\n",
       "<table border=\"1\" class=\"dataframe\">\n",
       "  <thead>\n",
       "    <tr style=\"text-align: right;\">\n",
       "      <th></th>\n",
       "      <th>path</th>\n",
       "      <th>id</th>\n",
       "      <th>x</th>\n",
       "      <th>y</th>\n",
       "      <th>class</th>\n",
       "    </tr>\n",
       "  </thead>\n",
       "  <tbody>\n",
       "    <tr>\n",
       "      <th>73427</th>\n",
       "      <td>..\\..\\Data\\14155\\1\\14155_idx5_x2901_y1501_clas...</td>\n",
       "      <td>5</td>\n",
       "      <td>2901</td>\n",
       "      <td>1501</td>\n",
       "      <td>1</td>\n",
       "    </tr>\n",
       "    <tr>\n",
       "      <th>16475</th>\n",
       "      <td>..\\..\\Data\\9029\\0\\9029_idx5_x401_y1401_class0.png</td>\n",
       "      <td>5</td>\n",
       "      <td>401</td>\n",
       "      <td>1401</td>\n",
       "      <td>0</td>\n",
       "    </tr>\n",
       "    <tr>\n",
       "      <th>154884</th>\n",
       "      <td>..\\..\\Data\\9075\\1\\9075_idx5_x501_y551_class1.png</td>\n",
       "      <td>5</td>\n",
       "      <td>501</td>\n",
       "      <td>551</td>\n",
       "      <td>1</td>\n",
       "    </tr>\n",
       "    <tr>\n",
       "      <th>60639</th>\n",
       "      <td>..\\..\\Data\\9323\\0\\9323_idx5_x451_y401_class0.png</td>\n",
       "      <td>5</td>\n",
       "      <td>451</td>\n",
       "      <td>401</td>\n",
       "      <td>0</td>\n",
       "    </tr>\n",
       "    <tr>\n",
       "      <th>134884</th>\n",
       "      <td>..\\..\\Data\\15903\\1\\15903_idx5_x1851_y851_class...</td>\n",
       "      <td>5</td>\n",
       "      <td>1851</td>\n",
       "      <td>851</td>\n",
       "      <td>1</td>\n",
       "    </tr>\n",
       "  </tbody>\n",
       "</table>\n",
       "</div>"
      ],
      "text/plain": [
       "                                                     path id     x     y class\n",
       "73427   ..\\..\\Data\\14155\\1\\14155_idx5_x2901_y1501_clas...  5  2901  1501     1\n",
       "16475   ..\\..\\Data\\9029\\0\\9029_idx5_x401_y1401_class0.png  5   401  1401     0\n",
       "154884   ..\\..\\Data\\9075\\1\\9075_idx5_x501_y551_class1.png  5   501   551     1\n",
       "60639    ..\\..\\Data\\9323\\0\\9323_idx5_x451_y401_class0.png  5   451   401     0\n",
       "134884  ..\\..\\Data\\15903\\1\\15903_idx5_x1851_y851_class...  5  1851   851     1"
      ]
     },
     "execution_count": 10,
     "metadata": {},
     "output_type": "execute_result"
    }
   ],
   "source": [
    "test.head()"
   ]
  },
  {
   "cell_type": "code",
   "execution_count": 11,
   "id": "a9da62c2-ea02-46fb-9810-ac3bfb10e5d7",
   "metadata": {},
   "outputs": [
    {
     "name": "stdout",
     "output_type": "stream",
     "text": [
      "Found 100845 validated image filenames belonging to 2 classes.\n",
      "Found 25212 validated image filenames belonging to 2 classes.\n",
      "Found 31515 validated image filenames belonging to 2 classes.\n"
     ]
    }
   ],
   "source": [
    "#load data from DataFrame see https://www.tensorflow.org/api_docs/python/tf/keras/preprocessing/image/ImageDataGenerator#flow_from_dataframe\n",
    "from tensorflow.keras.preprocessing.image import ImageDataGenerator\n",
    "train_generator = ImageDataGenerator(rescale=1.0/255.0).flow_from_dataframe(dataframe = train, x_col = 'path', y_col='class', class_mode = 'binary',target_size=(50, 50), )\n",
    "validation_generator = ImageDataGenerator(rescale=1.0/255.0).flow_from_dataframe(dataframe = validation, x_col = 'path', y_col='class', class_mode = 'binary',target_size=(50, 50),)\n",
    "test_generator = ImageDataGenerator(rescale=1.0/255.0).flow_from_dataframe(dataframe = test, x_col = 'path', y_col='class', class_mode = 'binary',target_size=(50, 50),)\n"
   ]
  },
  {
   "cell_type": "code",
   "execution_count": 12,
   "id": "e4199637-1eae-410a-93f2-8558eabfe24f",
   "metadata": {},
   "outputs": [
    {
     "name": "stdout",
     "output_type": "stream",
     "text": [
      "X_1 shape (32, 50, 50, 3)\n",
      "y_1 shape (32,)\n"
     ]
    }
   ],
   "source": [
    "# Inspect the first sample\n",
    "X_1, y_1 = next(train_generator)\n",
    "# Look shapes of the training samples and the labels\n",
    "print(\"X_1 shape\", X_1.shape)\n",
    "print(\"y_1 shape\", y_1.shape)"
   ]
  },
  {
   "cell_type": "code",
   "execution_count": 13,
   "id": "ebd4348c-52e2-443e-8d85-75b10ff38386",
   "metadata": {},
   "outputs": [
    {
     "name": "stdout",
     "output_type": "stream",
     "text": [
      "Model: \"sequential\"\n",
      "_________________________________________________________________\n",
      "Layer (type)                 Output Shape              Param #   \n",
      "=================================================================\n",
      "conv2d (Conv2D)              (None, 48, 48, 32)        896       \n",
      "_________________________________________________________________\n",
      "max_pooling2d (MaxPooling2D) (None, 24, 24, 32)        0         \n",
      "_________________________________________________________________\n",
      "conv2d_1 (Conv2D)            (None, 22, 22, 64)        18496     \n",
      "_________________________________________________________________\n",
      "max_pooling2d_1 (MaxPooling2 (None, 11, 11, 64)        0         \n",
      "_________________________________________________________________\n",
      "conv2d_2 (Conv2D)            (None, 9, 9, 128)         73856     \n",
      "_________________________________________________________________\n",
      "max_pooling2d_2 (MaxPooling2 (None, 4, 4, 128)         0         \n",
      "_________________________________________________________________\n",
      "flatten (Flatten)            (None, 2048)              0         \n",
      "_________________________________________________________________\n",
      "dense (Dense)                (None, 512)               1049088   \n",
      "_________________________________________________________________\n",
      "dense_1 (Dense)              (None, 1)                 513       \n",
      "=================================================================\n",
      "Total params: 1,142,849\n",
      "Trainable params: 1,142,849\n",
      "Non-trainable params: 0\n",
      "_________________________________________________________________\n"
     ]
    }
   ],
   "source": [
    "# Define a classical CNN architecture: conv -> max pool\n",
    "def classical_model():\n",
    "    # build and train a quite simple CNN binary classification model\n",
    "    model = tf.keras.models.Sequential([\n",
    "\n",
    "    tf.keras.layers.Conv2D(32, (3,3), activation='relu', input_shape=(IMAGE_WIDTH, IMAGE_LENGTH, 3)),\n",
    "    tf.keras.layers.MaxPooling2D(2,2),\n",
    "\n",
    "    tf.keras.layers.Conv2D(64, (3,3), activation='relu', input_shape=(IMAGE_WIDTH, IMAGE_LENGTH, 3)),\n",
    "    tf.keras.layers.MaxPooling2D(2,2),\n",
    "        \n",
    "    tf.keras.layers.Conv2D(128, (3,3), activation='relu', input_shape=(IMAGE_WIDTH, IMAGE_LENGTH, 3)),\n",
    "    tf.keras.layers.MaxPooling2D(2,2),\n",
    "\n",
    "    tf.keras.layers.Flatten(),\n",
    "\n",
    "    tf.keras.layers.Dense(512, activation='relu'),\n",
    "    tf.keras.layers.Dense(1, activation='sigmoid')])\n",
    "\n",
    "    return model\n",
    "\n",
    "model = classical_model()\n",
    "model.summary()"
   ]
  },
  {
   "cell_type": "code",
   "execution_count": 13,
   "id": "fa8c229d-4ed0-4c9f-a9ae-c6e7de384cf4",
   "metadata": {},
   "outputs": [],
   "source": [
    "from keras.metrics import Precision, Recall\n",
    "\n",
    "model.compile(loss='binary_crossentropy', optimizer=RMSprop(learning_rate=0.001), metrics= ['accuracy', Precision(), Recall()])"
   ]
  },
  {
   "cell_type": "code",
   "execution_count": 14,
   "id": "0df570d3-33c2-4e77-9998-db922cb8c018",
   "metadata": {},
   "outputs": [
    {
     "name": "stdout",
     "output_type": "stream",
     "text": [
      "Num GPUs Available:  1\n"
     ]
    }
   ],
   "source": [
    "import tensorflow as tf\n",
    "print(\"Num GPUs Available: \", len(tf.config.list_physical_devices('GPU')))"
   ]
  },
  {
   "cell_type": "code",
   "execution_count": 20,
   "id": "359f1988-34f3-41f2-b8c5-70b2f516f893",
   "metadata": {},
   "outputs": [
    {
     "name": "stdout",
     "output_type": "stream",
     "text": [
      "Epoch 1/500\n",
      "3152/3152 [==============================] - 869s 122ms/step - loss: 0.4954 - accuracy: 0.7693 - precision: 0.7763 - recall: 0.7567 - val_loss: 0.4375 - val_accuracy: 0.8130 - val_precision: 0.7894 - val_recall: 0.8539\n",
      "Epoch 2/500\n",
      "3152/3152 [==============================] - 61s 19ms/step - loss: 0.4454 - accuracy: 0.8136 - precision: 0.8215 - recall: 0.8013 - val_loss: 0.5708 - val_accuracy: 0.7920 - val_precision: 0.8936 - val_recall: 0.6629\n",
      "Epoch 3/500\n",
      "3152/3152 [==============================] - 58s 18ms/step - loss: 0.4242 - accuracy: 0.8241 - precision: 0.8281 - recall: 0.8179 - val_loss: 0.4989 - val_accuracy: 0.7563 - val_precision: 0.6850 - val_recall: 0.9488\n",
      "Epoch 4/500\n",
      "3152/3152 [==============================] - 58s 18ms/step - loss: 0.4157 - accuracy: 0.8263 - precision: 0.8274 - recall: 0.8246 - val_loss: 0.4262 - val_accuracy: 0.8276 - val_precision: 0.8385 - val_recall: 0.8115\n",
      "Epoch 5/500\n",
      "3152/3152 [==============================] - 59s 19ms/step - loss: 0.4237 - accuracy: 0.8285 - precision: 0.8299 - recall: 0.8263 - val_loss: 0.3955 - val_accuracy: 0.8313 - val_precision: 0.8335 - val_recall: 0.8279\n",
      "Epoch 6/500\n",
      "3152/3152 [==============================] - 59s 19ms/step - loss: 0.4087 - accuracy: 0.8290 - precision: 0.8308 - recall: 0.8262 - val_loss: 0.3903 - val_accuracy: 0.8376 - val_precision: 0.8527 - val_recall: 0.8163\n",
      "Epoch 7/500\n",
      "3152/3152 [==============================] - 59s 19ms/step - loss: 0.4121 - accuracy: 0.8308 - precision: 0.8327 - recall: 0.8280 - val_loss: 0.4119 - val_accuracy: 0.8323 - val_precision: 0.8187 - val_recall: 0.8536\n",
      "Epoch 8/500\n",
      "3152/3152 [==============================] - 59s 19ms/step - loss: 0.4180 - accuracy: 0.8320 - precision: 0.8341 - recall: 0.8288 - val_loss: 0.4131 - val_accuracy: 0.8316 - val_precision: 0.8850 - val_recall: 0.7623\n",
      "Epoch 9/500\n",
      "3152/3152 [==============================] - 61s 19ms/step - loss: 0.4045 - accuracy: 0.8320 - precision: 0.8354 - recall: 0.8270 - val_loss: 0.4024 - val_accuracy: 0.8352 - val_precision: 0.8680 - val_recall: 0.7907\n",
      "Epoch 10/500\n",
      "3152/3152 [==============================] - 59s 19ms/step - loss: 0.4096 - accuracy: 0.8326 - precision: 0.8359 - recall: 0.8277 - val_loss: 0.4561 - val_accuracy: 0.8145 - val_precision: 0.8847 - val_recall: 0.7234\n",
      "Epoch 11/500\n",
      "3152/3152 [==============================] - 58s 18ms/step - loss: 0.4061 - accuracy: 0.8341 - precision: 0.8348 - recall: 0.8330 - val_loss: 0.3847 - val_accuracy: 0.8441 - val_precision: 0.8428 - val_recall: 0.8459\n",
      "Epoch 12/500\n",
      "3152/3152 [==============================] - 58s 18ms/step - loss: 0.4048 - accuracy: 0.8363 - precision: 0.8387 - recall: 0.8327 - val_loss: 0.3735 - val_accuracy: 0.8417 - val_precision: 0.8499 - val_recall: 0.8299\n",
      "Epoch 13/500\n",
      "3152/3152 [==============================] - 58s 18ms/step - loss: 0.4069 - accuracy: 0.8354 - precision: 0.8374 - recall: 0.8325 - val_loss: 0.4332 - val_accuracy: 0.8143 - val_precision: 0.8977 - val_recall: 0.7095\n",
      "Epoch 14/500\n",
      "3152/3152 [==============================] - 58s 19ms/step - loss: 0.4033 - accuracy: 0.8369 - precision: 0.8383 - recall: 0.8349 - val_loss: 0.3685 - val_accuracy: 0.8465 - val_precision: 0.8402 - val_recall: 0.8557\n",
      "Epoch 15/500\n",
      "3152/3152 [==============================] - 59s 19ms/step - loss: 0.4039 - accuracy: 0.8382 - precision: 0.8385 - recall: 0.8378 - val_loss: 0.4035 - val_accuracy: 0.8420 - val_precision: 0.8659 - val_recall: 0.8094\n",
      "Epoch 16/500\n",
      "3152/3152 [==============================] - 59s 19ms/step - loss: 0.4379 - accuracy: 0.8377 - precision: 0.8433 - recall: 0.8296 - val_loss: 0.3915 - val_accuracy: 0.8365 - val_precision: 0.8773 - val_recall: 0.7824\n",
      "Epoch 17/500\n",
      "3152/3152 [==============================] - 60s 19ms/step - loss: 0.4019 - accuracy: 0.8364 - precision: 0.8408 - recall: 0.8299 - val_loss: 0.3996 - val_accuracy: 0.8341 - val_precision: 0.8820 - val_recall: 0.7715\n",
      "Epoch 18/500\n",
      "3152/3152 [==============================] - 60s 19ms/step - loss: 0.4070 - accuracy: 0.8372 - precision: 0.8425 - recall: 0.8295 - val_loss: 0.4701 - val_accuracy: 0.8231 - val_precision: 0.8645 - val_recall: 0.7663\n",
      "Epoch 19/500\n",
      "3152/3152 [==============================] - 59s 19ms/step - loss: 0.4055 - accuracy: 0.8358 - precision: 0.8437 - recall: 0.8245 - val_loss: 0.3876 - val_accuracy: 0.8391 - val_precision: 0.8099 - val_recall: 0.8862\n",
      "Epoch 20/500\n",
      "3152/3152 [==============================] - 59s 19ms/step - loss: 0.4046 - accuracy: 0.8358 - precision: 0.8434 - recall: 0.8247 - val_loss: 0.4308 - val_accuracy: 0.8104 - val_precision: 0.9112 - val_recall: 0.6878\n",
      "Epoch 21/500\n",
      "3152/3152 [==============================] - 60s 19ms/step - loss: 0.4056 - accuracy: 0.8345 - precision: 0.8453 - recall: 0.8188 - val_loss: 0.3809 - val_accuracy: 0.8400 - val_precision: 0.8596 - val_recall: 0.8127\n",
      "Epoch 22/500\n",
      "3152/3152 [==============================] - 60s 19ms/step - loss: 0.4148 - accuracy: 0.8356 - precision: 0.8427 - recall: 0.8251 - val_loss: 0.4310 - val_accuracy: 0.8257 - val_precision: 0.8721 - val_recall: 0.7634\n",
      "Epoch 23/500\n",
      "3152/3152 [==============================] - 60s 19ms/step - loss: 0.4152 - accuracy: 0.8333 - precision: 0.8435 - recall: 0.8184 - val_loss: 0.4133 - val_accuracy: 0.8306 - val_precision: 0.8856 - val_recall: 0.7593\n",
      "Epoch 24/500\n",
      "3152/3152 [==============================] - 60s 19ms/step - loss: 0.4186 - accuracy: 0.8352 - precision: 0.8436 - recall: 0.8230 - val_loss: 0.4105 - val_accuracy: 0.8450 - val_precision: 0.8367 - val_recall: 0.8574\n",
      "Epoch 25/500\n",
      "3152/3152 [==============================] - 60s 19ms/step - loss: 0.4158 - accuracy: 0.8346 - precision: 0.8426 - recall: 0.8229 - val_loss: 0.3775 - val_accuracy: 0.8410 - val_precision: 0.8225 - val_recall: 0.8698\n",
      "Epoch 26/500\n",
      "3152/3152 [==============================] - 60s 19ms/step - loss: 0.4289 - accuracy: 0.8343 - precision: 0.8442 - recall: 0.8199 - val_loss: 0.5517 - val_accuracy: 0.8168 - val_precision: 0.9011 - val_recall: 0.7116\n",
      "Epoch 27/500\n",
      "3152/3152 [==============================] - 58s 18ms/step - loss: 0.4117 - accuracy: 0.8336 - precision: 0.8433 - recall: 0.8194 - val_loss: 0.4044 - val_accuracy: 0.8344 - val_precision: 0.8754 - val_recall: 0.7798\n",
      "Epoch 28/500\n",
      "3152/3152 [==============================] - 58s 18ms/step - loss: 0.4127 - accuracy: 0.8336 - precision: 0.8447 - recall: 0.8176 - val_loss: 0.4266 - val_accuracy: 0.8395 - val_precision: 0.8425 - val_recall: 0.8352\n",
      "Epoch 29/500\n",
      "3152/3152 [==============================] - 59s 19ms/step - loss: 0.4408 - accuracy: 0.8315 - precision: 0.8431 - recall: 0.8145 - val_loss: 0.4095 - val_accuracy: 0.8360 - val_precision: 0.8051 - val_recall: 0.8867\n",
      "Epoch 30/500\n",
      "3152/3152 [==============================] - 59s 19ms/step - loss: 0.4291 - accuracy: 0.8327 - precision: 0.8428 - recall: 0.8180 - val_loss: 0.4189 - val_accuracy: 0.8333 - val_precision: 0.7969 - val_recall: 0.8946\n",
      "Epoch 31/500\n",
      "3152/3152 [==============================] - 59s 19ms/step - loss: 0.4450 - accuracy: 0.8320 - precision: 0.8420 - recall: 0.8174 - val_loss: 0.5247 - val_accuracy: 0.8096 - val_precision: 0.7562 - val_recall: 0.9137\n",
      "Epoch 32/500\n",
      "3152/3152 [==============================] - 59s 19ms/step - loss: 0.4201 - accuracy: 0.8317 - precision: 0.8413 - recall: 0.8176 - val_loss: 0.4449 - val_accuracy: 0.8353 - val_precision: 0.8284 - val_recall: 0.8457\n",
      "Epoch 33/500\n",
      "3152/3152 [==============================] - 60s 19ms/step - loss: 0.4319 - accuracy: 0.8320 - precision: 0.8396 - recall: 0.8207 - val_loss: 0.3825 - val_accuracy: 0.8424 - val_precision: 0.8401 - val_recall: 0.8457\n",
      "Epoch 34/500\n",
      "3152/3152 [==============================] - 60s 19ms/step - loss: 0.4210 - accuracy: 0.8332 - precision: 0.8404 - recall: 0.8226 - val_loss: 0.4000 - val_accuracy: 0.8408 - val_precision: 0.8295 - val_recall: 0.8580\n",
      "Epoch 35/500\n",
      "3152/3152 [==============================] - 60s 19ms/step - loss: 0.4196 - accuracy: 0.8330 - precision: 0.8407 - recall: 0.8216 - val_loss: 0.3917 - val_accuracy: 0.8365 - val_precision: 0.8177 - val_recall: 0.8659\n",
      "Epoch 36/500\n",
      "3152/3152 [==============================] - 60s 19ms/step - loss: 0.4137 - accuracy: 0.8330 - precision: 0.8411 - recall: 0.8210 - val_loss: 0.3968 - val_accuracy: 0.8397 - val_precision: 0.8153 - val_recall: 0.8784\n",
      "Epoch 37/500\n",
      "3152/3152 [==============================] - 60s 19ms/step - loss: 0.4161 - accuracy: 0.8319 - precision: 0.8376 - recall: 0.8233 - val_loss: 0.3854 - val_accuracy: 0.8390 - val_precision: 0.8638 - val_recall: 0.8049\n",
      "Epoch 38/500\n",
      "3152/3152 [==============================] - 60s 19ms/step - loss: 0.4344 - accuracy: 0.8348 - precision: 0.8412 - recall: 0.8254 - val_loss: 0.3899 - val_accuracy: 0.8404 - val_precision: 0.8378 - val_recall: 0.8444\n",
      "Epoch 39/500\n",
      "3152/3152 [==============================] - 60s 19ms/step - loss: 0.4173 - accuracy: 0.8340 - precision: 0.8405 - recall: 0.8246 - val_loss: 0.3787 - val_accuracy: 0.8404 - val_precision: 0.8436 - val_recall: 0.8359\n",
      "Epoch 40/500\n",
      "3152/3152 [==============================] - 60s 19ms/step - loss: 0.4326 - accuracy: 0.8339 - precision: 0.8425 - recall: 0.8213 - val_loss: 1.0559 - val_accuracy: 0.8130 - val_precision: 0.8872 - val_recall: 0.7173\n",
      "Epoch 41/500\n",
      "3152/3152 [==============================] - 61s 19ms/step - loss: 0.4376 - accuracy: 0.8328 - precision: 0.8402 - recall: 0.8220 - val_loss: 0.4732 - val_accuracy: 0.8244 - val_precision: 0.8951 - val_recall: 0.7349\n",
      "Epoch 42/500\n",
      "3152/3152 [==============================] - 61s 19ms/step - loss: 0.4224 - accuracy: 0.8343 - precision: 0.8413 - recall: 0.8241 - val_loss: 0.4564 - val_accuracy: 0.8037 - val_precision: 0.9047 - val_recall: 0.6789\n",
      "Epoch 43/500\n",
      "3152/3152 [==============================] - 60s 19ms/step - loss: 0.4825 - accuracy: 0.8348 - precision: 0.8417 - recall: 0.8248 - val_loss: 0.3786 - val_accuracy: 0.8397 - val_precision: 0.8187 - val_recall: 0.8726\n",
      "Epoch 44/500\n",
      "3152/3152 [==============================] - 59s 19ms/step - loss: 0.5073 - accuracy: 0.8329 - precision: 0.8413 - recall: 0.8205 - val_loss: 0.4643 - val_accuracy: 0.8086 - val_precision: 0.8717 - val_recall: 0.7237\n"
     ]
    }
   ],
   "source": [
    "# Add callback for early stopping\n",
    "es_callback = tf.keras.callbacks.EarlyStopping(\n",
    "    monitor='val_loss',\n",
    "    patience=30,\n",
    "    mode='auto',\n",
    "    baseline=None,\n",
    "    restore_best_weights=True\n",
    ")\n",
    "\n",
    "history = model.fit(train_generator,\n",
    "    epochs=500,\n",
    "    verbose=1,\n",
    "    validation_data = validation_generator,\n",
    "    callbacks=[es_callback]\n",
    ")"
   ]
  },
  {
   "cell_type": "code",
   "execution_count": 21,
   "id": "92054526-67b1-4598-910a-05e6699280f2",
   "metadata": {},
   "outputs": [
    {
     "name": "stdout",
     "output_type": "stream",
     "text": [
      "788/788 [==============================] - 19s 25ms/step - loss: 0.3685 - accuracy: 0.8465 - precision: 0.8402 - recall: 0.8557\n"
     ]
    },
    {
     "data": {
      "text/plain": [
       "[0.36849701404571533,\n",
       " 0.8465016484260559,\n",
       " 0.840239942073822,\n",
       " 0.8557036519050598]"
      ]
     },
     "execution_count": 21,
     "metadata": {},
     "output_type": "execute_result"
    }
   ],
   "source": [
    "model.evaluate(validation_generator)"
   ]
  },
  {
   "cell_type": "code",
   "execution_count": 22,
   "id": "0046bfd9-8aa0-4bca-b813-215781155569",
   "metadata": {},
   "outputs": [
    {
     "name": "stdout",
     "output_type": "stream",
     "text": [
      "985/985 [==============================] - 70s 71ms/step - loss: 0.3755 - accuracy: 0.8508 - precision: 0.8424 - recall: 0.8631\n"
     ]
    },
    {
     "data": {
      "text/plain": [
       "[0.3754580616950989,\n",
       " 0.8508012294769287,\n",
       " 0.8423660397529602,\n",
       " 0.8631084561347961]"
      ]
     },
     "execution_count": 22,
     "metadata": {},
     "output_type": "execute_result"
    }
   ],
   "source": [
    "model.evaluate(test_generator)\n"
   ]
  },
  {
   "cell_type": "code",
   "execution_count": 12,
   "id": "28df31e4-ffca-40e2-896e-eda63a59a5d6",
   "metadata": {},
   "outputs": [],
   "source": [
    "# Save the model\n",
    "# model.save('classical_model.h5')\n",
    "#Load the model\n",
    "#model = tf.keras.models.load_model('classical_model.h5')"
   ]
  },
  {
   "cell_type": "code",
   "execution_count": 14,
   "id": "b9bddeb2-73d3-492f-bcb5-6b2598e4f123",
   "metadata": {},
   "outputs": [
    {
     "name": "stdout",
     "output_type": "stream",
     "text": [
      "985/985 [==============================] - 122s 124ms/step - loss: 0.3755 - accuracy: 0.8508 - precision: 0.8424 - recall: 0.8631\n"
     ]
    },
    {
     "data": {
      "text/plain": [
       "[0.375467449426651, 0.8508012294769287, 0.8423660397529602, 0.8631084561347961]"
      ]
     },
     "execution_count": 14,
     "metadata": {},
     "output_type": "execute_result"
    }
   ],
   "source": [
    "model.evaluate(test_generator)"
   ]
  },
  {
   "cell_type": "code",
   "execution_count": 15,
   "id": "66b7156a-7c14-4c9b-b509-584e0acdf849",
   "metadata": {},
   "outputs": [
    {
     "name": "stdout",
     "output_type": "stream",
     "text": [
      "Model: \"sequential\"\n",
      "_________________________________________________________________\n",
      "Layer (type)                 Output Shape              Param #   \n",
      "=================================================================\n",
      "conv2d (Conv2D)              (None, 48, 48, 32)        896       \n",
      "_________________________________________________________________\n",
      "max_pooling2d (MaxPooling2D) (None, 24, 24, 32)        0         \n",
      "_________________________________________________________________\n",
      "conv2d_1 (Conv2D)            (None, 22, 22, 64)        18496     \n",
      "_________________________________________________________________\n",
      "max_pooling2d_1 (MaxPooling2 (None, 11, 11, 64)        0         \n",
      "_________________________________________________________________\n",
      "conv2d_2 (Conv2D)            (None, 9, 9, 128)         73856     \n",
      "_________________________________________________________________\n",
      "max_pooling2d_2 (MaxPooling2 (None, 4, 4, 128)         0         \n",
      "_________________________________________________________________\n",
      "flatten (Flatten)            (None, 2048)              0         \n",
      "_________________________________________________________________\n",
      "dense (Dense)                (None, 512)               1049088   \n",
      "_________________________________________________________________\n",
      "dense_1 (Dense)              (None, 1)                 513       \n",
      "=================================================================\n",
      "Total params: 1,142,849\n",
      "Trainable params: 1,142,849\n",
      "Non-trainable params: 0\n",
      "_________________________________________________________________\n"
     ]
    }
   ],
   "source": [
    "new_model.summary()"
   ]
  }
 ],
 "metadata": {
  "kernelspec": {
   "display_name": "Python 3 (ipykernel)",
   "language": "python",
   "name": "python3"
  },
  "language_info": {
   "codemirror_mode": {
    "name": "ipython",
    "version": 3
   },
   "file_extension": ".py",
   "mimetype": "text/x-python",
   "name": "python",
   "nbconvert_exporter": "python",
   "pygments_lexer": "ipython3",
   "version": "3.9.7"
  }
 },
 "nbformat": 4,
 "nbformat_minor": 5
}
