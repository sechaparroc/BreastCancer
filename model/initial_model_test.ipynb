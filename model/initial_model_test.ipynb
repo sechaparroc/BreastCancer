{
 "cells": [
  {
   "cell_type": "code",
   "execution_count": 1,
   "id": "e2f28576-6293-4dbc-927a-b5ebfbfd3f86",
   "metadata": {},
   "outputs": [],
   "source": [
    "#Initial test of basic model with Breast Cancer Dataset\n",
    "#Make sure that the parent folder of Initial Model is within the same directory as the Data Folder with all the images\n",
    "\"\"\"\n",
    "Example:\n",
    "+ Data\n",
    "+ DashApp\n",
    "  |--- InitialModel\n",
    "        |--- initial_model_test.ipynb\n",
    "\"\"\"\n",
    "#Comment this to use GPU\n",
    "import os\n",
    "#os.environ[\"CUDA_VISIBLE_DEVICES\"] = \"-1\" #Remove this line if you have a GPU device"
   ]
  },
  {
   "cell_type": "code",
   "execution_count": 2,
   "id": "f379774b-9c3c-450f-baad-2f2486eae505",
   "metadata": {},
   "outputs": [],
   "source": [
    "import os\n",
    "#Global variables\n",
    "DATA_PATH = os.path.join(\"..\",\"..\",\"Data\")\n",
    "RANDOM_SEED = 42\n",
    "TEST_FRACTION = 0.2 # Just for initial test it must be something like 0.2\n",
    "VALIDATION_FRACTION = 0.25 # Use the 25% of the non test samples to build the validation set (the remaining is the Test Set)\n",
    "# Input patches are 50X50\n",
    "IMAGE_WIDTH = 50 \n",
    "IMAGE_LENGTH = 50"
   ]
  },
  {
   "cell_type": "code",
   "execution_count": 3,
   "id": "d2d3d704-f520-497b-9925-2b170e6d1f9c",
   "metadata": {},
   "outputs": [],
   "source": [
    "import numpy as np\n",
    "np.random.seed(RANDOM_SEED)\n",
    "import tensorflow as tf\n",
    "tf.random.set_seed(RANDOM_SEED)\n",
    "# RMSprop optimizer - Perhaps Prove with Adam\n",
    "from tensorflow.keras.optimizers import RMSprop \n",
    "import pandas as pd\n",
    "from sklearn.model_selection import train_test_split\n",
    "import glob"
   ]
  },
  {
   "cell_type": "code",
   "execution_count": 4,
   "id": "63aaf9a6-c4a6-40e8-adc2-e6ffb896a810",
   "metadata": {},
   "outputs": [],
   "source": [
    "# read all patches\n",
    "patches = []\n",
    "for path in glob.glob(os.path.join(DATA_PATH,'**/*class*.png'), recursive = True):\n",
    "    patches.append(path)"
   ]
  },
  {
   "cell_type": "code",
   "execution_count": 334,
   "id": "e2b821c3-81b4-4f97-bbf6-8370cb3403e7",
   "metadata": {},
   "outputs": [],
   "source": [
    "def createDataFrame(allow = 0.15): # allow an imbalance of 0.15%\n",
    "    # Keep info within a Pandas dataframe\n",
    "    data = pd.DataFrame({\"path\" : patches})\n",
    "    # Obtain patient information by spliting the filename\n",
    "    series_info = data[\"path\"].str.split(\"idx\").str[1].str.split(\"_\")\n",
    "    data['id'] = series_info.str[0] # this get the idx portion\n",
    "    data['x'] = series_info.str[1].str[1:] # this get the x coord\n",
    "    data['y'] = series_info.str[2].str[1:] # this get the y coord\n",
    "    data['class'] = series_info.str[3] # this get the class\n",
    "    data['class'] = data[\"class\"].map({\"class0.png\" : \"0\" , \"class1.png\" : \"1\"}) #map to a number\n",
    "    # Get the total number of registers from the class with the least number of samples \n",
    "    counts = data['class'].value_counts()\n",
    "    number_samples = int(min(counts) * (1 + allow))     \n",
    "    n0 = min(number_samples, counts.loc['0'])\n",
    "    n1 = min(number_samples, counts.loc['1'])\n",
    "    balanced_data = data[data['class'] == '0'].sample(n=n0, random_state=RANDOM_SEED, ignore_index=True)\n",
    "    balanced_data = pd.concat([balanced_data, data[data['class'] == '1'].sample(n=n1, random_state=RANDOM_SEED, ignore_index=True)], ignore_index=True)\n",
    "    \n",
    "    balanced_data = balanced_data.sample(frac=1, random_state=RANDOM_SEED).reset_index(drop=True)\n",
    "\n",
    "    # sample the dataframe in such way that the data per class is balanced (same number of samples)\n",
    "    return balanced_data\n",
    "\n",
    "    \n",
    "df = createDataFrame()"
   ]
  },
  {
   "cell_type": "code",
   "execution_count": 335,
   "id": "cc13dcf5",
   "metadata": {},
   "outputs": [
    {
     "data": {
      "text/plain": [
       "0    90603\n",
       "1    78786\n",
       "Name: class, dtype: int64"
      ]
     },
     "execution_count": 335,
     "metadata": {},
     "output_type": "execute_result"
    }
   ],
   "source": [
    "df['class'].value_counts()"
   ]
  },
  {
   "cell_type": "code",
   "execution_count": 336,
   "id": "3f4cfc5d-6e0e-44e4-9cf1-71fe0537402c",
   "metadata": {},
   "outputs": [],
   "source": [
    "# Split data into train and test sets\n",
    "train_val, test = train_test_split(df, test_size=TEST_FRACTION, random_state=RANDOM_SEED, stratify=df['class'])\n",
    "# Split train_val into train and validation\n",
    "train, validation = train_test_split(train_val, test_size=VALIDATION_FRACTION, random_state=RANDOM_SEED, stratify=train_val['class'])\n"
   ]
  },
  {
   "cell_type": "code",
   "execution_count": 337,
   "id": "d4800e79-427c-49cc-ae58-d20c375d59b5",
   "metadata": {},
   "outputs": [
    {
     "name": "stdout",
     "output_type": "stream",
     "text": [
      "Train samples:  101633 class 0: 54361 class 1: 47272\n",
      "Validation samples:  33878 class 0: 18121 class 1: 15757\n",
      "Test samples:  33878 class 0: 18121 class 1: 15757\n"
     ]
    }
   ],
   "source": [
    "print(\"Train samples: \", len(train), \"class 0:\", len(train[train['class'] == '0']), \"class 1:\", len(train[train['class'] == '1']))\n",
    "print(\"Validation samples: \", len(validation), \"class 0:\", len(validation[validation['class'] == '0']), \"class 1:\", len(validation[validation['class'] == '1']))\n",
    "print(\"Test samples: \", len(test), \"class 0:\", len(test[test['class'] == '0']), \"class 1:\", len(test[test['class'] == '1']))"
   ]
  },
  {
   "cell_type": "code",
   "execution_count": 338,
   "id": "1284db37-f6c4-40dd-82f1-e5fa975af84d",
   "metadata": {},
   "outputs": [
    {
     "data": {
      "text/html": [
       "<div>\n",
       "<style scoped>\n",
       "    .dataframe tbody tr th:only-of-type {\n",
       "        vertical-align: middle;\n",
       "    }\n",
       "\n",
       "    .dataframe tbody tr th {\n",
       "        vertical-align: top;\n",
       "    }\n",
       "\n",
       "    .dataframe thead th {\n",
       "        text-align: right;\n",
       "    }\n",
       "</style>\n",
       "<table border=\"1\" class=\"dataframe\">\n",
       "  <thead>\n",
       "    <tr style=\"text-align: right;\">\n",
       "      <th></th>\n",
       "      <th>path</th>\n",
       "      <th>id</th>\n",
       "      <th>x</th>\n",
       "      <th>y</th>\n",
       "      <th>class</th>\n",
       "    </tr>\n",
       "  </thead>\n",
       "  <tbody>\n",
       "    <tr>\n",
       "      <th>68016</th>\n",
       "      <td>..\\..\\Data\\14157\\0\\14157_idx5_x951_y1651_class...</td>\n",
       "      <td>5</td>\n",
       "      <td>951</td>\n",
       "      <td>1651</td>\n",
       "      <td>0</td>\n",
       "    </tr>\n",
       "    <tr>\n",
       "      <th>118797</th>\n",
       "      <td>..\\..\\Data\\12935\\1\\12935_idx5_x1201_y1351_clas...</td>\n",
       "      <td>5</td>\n",
       "      <td>1201</td>\n",
       "      <td>1351</td>\n",
       "      <td>1</td>\n",
       "    </tr>\n",
       "    <tr>\n",
       "      <th>148180</th>\n",
       "      <td>..\\..\\Data\\8913\\0\\8913_idx5_x2001_y501_class0.png</td>\n",
       "      <td>5</td>\n",
       "      <td>2001</td>\n",
       "      <td>501</td>\n",
       "      <td>0</td>\n",
       "    </tr>\n",
       "    <tr>\n",
       "      <th>76205</th>\n",
       "      <td>..\\..\\Data\\12881\\0\\12881_idx5_x2201_y651_class...</td>\n",
       "      <td>5</td>\n",
       "      <td>2201</td>\n",
       "      <td>651</td>\n",
       "      <td>0</td>\n",
       "    </tr>\n",
       "    <tr>\n",
       "      <th>134882</th>\n",
       "      <td>..\\..\\Data\\9320\\0\\9320_idx5_x1301_y951_class0.png</td>\n",
       "      <td>5</td>\n",
       "      <td>1301</td>\n",
       "      <td>951</td>\n",
       "      <td>0</td>\n",
       "    </tr>\n",
       "  </tbody>\n",
       "</table>\n",
       "</div>"
      ],
      "text/plain": [
       "                                                     path id     x     y class\n",
       "68016   ..\\..\\Data\\14157\\0\\14157_idx5_x951_y1651_class...  5   951  1651     0\n",
       "118797  ..\\..\\Data\\12935\\1\\12935_idx5_x1201_y1351_clas...  5  1201  1351     1\n",
       "148180  ..\\..\\Data\\8913\\0\\8913_idx5_x2001_y501_class0.png  5  2001   501     0\n",
       "76205   ..\\..\\Data\\12881\\0\\12881_idx5_x2201_y651_class...  5  2201   651     0\n",
       "134882  ..\\..\\Data\\9320\\0\\9320_idx5_x1301_y951_class0.png  5  1301   951     0"
      ]
     },
     "execution_count": 338,
     "metadata": {},
     "output_type": "execute_result"
    }
   ],
   "source": [
    "train.head()"
   ]
  },
  {
   "cell_type": "code",
   "execution_count": 339,
   "id": "b0bc26ab-92fc-4979-8916-41e76a70632c",
   "metadata": {},
   "outputs": [
    {
     "data": {
      "text/html": [
       "<div>\n",
       "<style scoped>\n",
       "    .dataframe tbody tr th:only-of-type {\n",
       "        vertical-align: middle;\n",
       "    }\n",
       "\n",
       "    .dataframe tbody tr th {\n",
       "        vertical-align: top;\n",
       "    }\n",
       "\n",
       "    .dataframe thead th {\n",
       "        text-align: right;\n",
       "    }\n",
       "</style>\n",
       "<table border=\"1\" class=\"dataframe\">\n",
       "  <thead>\n",
       "    <tr style=\"text-align: right;\">\n",
       "      <th></th>\n",
       "      <th>path</th>\n",
       "      <th>id</th>\n",
       "      <th>x</th>\n",
       "      <th>y</th>\n",
       "      <th>class</th>\n",
       "    </tr>\n",
       "  </thead>\n",
       "  <tbody>\n",
       "    <tr>\n",
       "      <th>122413</th>\n",
       "      <td>..\\..\\Data\\9124\\1\\9124_idx5_x1651_y851_class1.png</td>\n",
       "      <td>5</td>\n",
       "      <td>1651</td>\n",
       "      <td>851</td>\n",
       "      <td>1</td>\n",
       "    </tr>\n",
       "    <tr>\n",
       "      <th>168652</th>\n",
       "      <td>..\\..\\Data\\10305\\0\\10305_idx5_x1501_y2001_clas...</td>\n",
       "      <td>5</td>\n",
       "      <td>1501</td>\n",
       "      <td>2001</td>\n",
       "      <td>0</td>\n",
       "    </tr>\n",
       "    <tr>\n",
       "      <th>3805</th>\n",
       "      <td>..\\..\\Data\\9173\\0\\9173_idx5_x1501_y1351_class0...</td>\n",
       "      <td>5</td>\n",
       "      <td>1501</td>\n",
       "      <td>1351</td>\n",
       "      <td>0</td>\n",
       "    </tr>\n",
       "    <tr>\n",
       "      <th>102452</th>\n",
       "      <td>..\\..\\Data\\13613\\1\\13613_idx5_x2501_y1601_clas...</td>\n",
       "      <td>5</td>\n",
       "      <td>2501</td>\n",
       "      <td>1601</td>\n",
       "      <td>1</td>\n",
       "    </tr>\n",
       "    <tr>\n",
       "      <th>35370</th>\n",
       "      <td>..\\..\\Data\\12868\\0\\12868_idx5_x1901_y1201_clas...</td>\n",
       "      <td>5</td>\n",
       "      <td>1901</td>\n",
       "      <td>1201</td>\n",
       "      <td>0</td>\n",
       "    </tr>\n",
       "  </tbody>\n",
       "</table>\n",
       "</div>"
      ],
      "text/plain": [
       "                                                     path id     x     y class\n",
       "122413  ..\\..\\Data\\9124\\1\\9124_idx5_x1651_y851_class1.png  5  1651   851     1\n",
       "168652  ..\\..\\Data\\10305\\0\\10305_idx5_x1501_y2001_clas...  5  1501  2001     0\n",
       "3805    ..\\..\\Data\\9173\\0\\9173_idx5_x1501_y1351_class0...  5  1501  1351     0\n",
       "102452  ..\\..\\Data\\13613\\1\\13613_idx5_x2501_y1601_clas...  5  2501  1601     1\n",
       "35370   ..\\..\\Data\\12868\\0\\12868_idx5_x1901_y1201_clas...  5  1901  1201     0"
      ]
     },
     "execution_count": 339,
     "metadata": {},
     "output_type": "execute_result"
    }
   ],
   "source": [
    "test.head()"
   ]
  },
  {
   "cell_type": "code",
   "execution_count": 340,
   "id": "a9da62c2-ea02-46fb-9810-ac3bfb10e5d7",
   "metadata": {},
   "outputs": [
    {
     "name": "stdout",
     "output_type": "stream",
     "text": [
      "Found 101633 validated image filenames belonging to 2 classes.\n",
      "Found 33878 validated image filenames belonging to 2 classes.\n",
      "Found 33878 validated image filenames belonging to 2 classes.\n"
     ]
    }
   ],
   "source": [
    "#load data from DataFrame see https://www.tensorflow.org/api_docs/python/tf/keras/preprocessing/image/ImageDataGenerator#flow_from_dataframe\n",
    "from tensorflow.keras.preprocessing.image import ImageDataGenerator\n",
    "train_generator = ImageDataGenerator(\n",
    "    rescale=1.0/255.0,\n",
    "    rotation_range=20,\n",
    "    width_shift_range=0.2,\n",
    "    height_shift_range=0.2,\n",
    "    horizontal_flip=True,\n",
    "    vertical_flip=True                                                   \n",
    ").flow_from_dataframe(dataframe = train, x_col = 'path', y_col='class', class_mode = 'binary',target_size=(50, 50), batch_size=32)\n",
    "validation_generator = ImageDataGenerator(rescale=1.0/255.0).flow_from_dataframe(dataframe = validation, x_col = 'path', y_col='class', class_mode = 'binary',target_size=(50, 50), shuffle=False,)\n",
    "test_generator = ImageDataGenerator(rescale=1.0/255.0,).flow_from_dataframe(dataframe = test, x_col = 'path', y_col='class', class_mode = 'binary',target_size=(50, 50), shuffle=False,)"
   ]
  },
  {
   "cell_type": "code",
   "execution_count": 341,
   "id": "e4199637-1eae-410a-93f2-8558eabfe24f",
   "metadata": {},
   "outputs": [
    {
     "name": "stdout",
     "output_type": "stream",
     "text": [
      "X_1 shape (32, 50, 50, 3)\n",
      "y_1 shape (32,) [ 1.000  0.000  1.000  0.000  1.000  1.000  0.000  0.000  1.000  0.000\n",
      "  0.000  1.000  1.000  1.000  1.000  1.000  1.000  0.000  1.000  1.000\n",
      "  0.000  0.000  1.000  0.000  0.000  0.000  1.000  1.000  0.000  0.000\n",
      "  0.000  0.000] <class 'numpy.float32'>\n",
      "<class 'numpy.float32'>\n"
     ]
    }
   ],
   "source": [
    "# Inspect the first sample\n",
    "X_1, y_1 = next(train_generator)\n",
    "# Look shapes of the training samples and the labels\n",
    "print(\"X_1 shape\", X_1.shape)\n",
    "print(\"y_1 shape\", y_1.shape, y_1, type(y_1[0]))\n",
    "print(np.float32)"
   ]
  },
  {
   "cell_type": "code",
   "execution_count": 342,
   "id": "ebd4348c-52e2-443e-8d85-75b10ff38386",
   "metadata": {},
   "outputs": [
    {
     "name": "stdout",
     "output_type": "stream",
     "text": [
      "Model: \"sequential_8\"\n",
      "_________________________________________________________________\n",
      " Layer (type)                Output Shape              Param #   \n",
      "=================================================================\n",
      " conv2d_22 (Conv2D)          (None, 48, 48, 32)        896       \n",
      "                                                                 \n",
      " max_pooling2d_22 (MaxPoolin  (None, 24, 24, 32)       0         \n",
      " g2D)                                                            \n",
      "                                                                 \n",
      " conv2d_23 (Conv2D)          (None, 22, 22, 64)        18496     \n",
      "                                                                 \n",
      " max_pooling2d_23 (MaxPoolin  (None, 11, 11, 64)       0         \n",
      " g2D)                                                            \n",
      "                                                                 \n",
      " conv2d_24 (Conv2D)          (None, 9, 9, 128)         73856     \n",
      "                                                                 \n",
      " max_pooling2d_24 (MaxPoolin  (None, 4, 4, 128)        0         \n",
      " g2D)                                                            \n",
      "                                                                 \n",
      " flatten_8 (Flatten)         (None, 2048)              0         \n",
      "                                                                 \n",
      " dense_16 (Dense)            (None, 512)               1049088   \n",
      "                                                                 \n",
      " dense_17 (Dense)            (None, 1)                 513       \n",
      "                                                                 \n",
      "=================================================================\n",
      "Total params: 1,142,849\n",
      "Trainable params: 1,142,849\n",
      "Non-trainable params: 0\n",
      "_________________________________________________________________\n"
     ]
    }
   ],
   "source": [
    "# Define a classical CNN architecture: conv -> max pool\n",
    "def classical_model():\n",
    "    # build and train a quite simple CNN binary classification model\n",
    "    model = tf.keras.models.Sequential([\n",
    "\n",
    "    tf.keras.layers.Conv2D(32, (3,3), activation='relu', input_shape=(IMAGE_WIDTH, IMAGE_LENGTH, 3)),\n",
    "    tf.keras.layers.MaxPooling2D(2,2),\n",
    "\n",
    "    tf.keras.layers.Conv2D(64, (3,3), activation='relu', input_shape=(IMAGE_WIDTH, IMAGE_LENGTH, 3)),\n",
    "    tf.keras.layers.MaxPooling2D(2,2),\n",
    "        \n",
    "    tf.keras.layers.Conv2D(128, (3,3), activation='relu', input_shape=(IMAGE_WIDTH, IMAGE_LENGTH, 3)),\n",
    "    tf.keras.layers.MaxPooling2D(2,2),\n",
    "\n",
    "    tf.keras.layers.Flatten(),\n",
    "\n",
    "    tf.keras.layers.Dense(512, activation='relu'),\n",
    "    tf.keras.layers.Dense(1, activation='sigmoid')])\n",
    "\n",
    "    return model\n",
    "\n",
    "model = classical_model()\n",
    "model.summary()"
   ]
  },
  {
   "cell_type": "code",
   "execution_count": 344,
   "id": "fa8c229d-4ed0-4c9f-a9ae-c6e7de384cf4",
   "metadata": {},
   "outputs": [],
   "source": [
    "from keras.metrics import BinaryAccuracy, Precision, Recall\n",
    "from keras.metrics import categorical_accuracy\n",
    "\n",
    "model.compile(loss='binary_crossentropy', optimizer=tf.keras.optimizers.Adam(), metrics= ['accuracy', Precision(), Recall()])"
   ]
  },
  {
   "cell_type": "code",
   "execution_count": 345,
   "id": "0df570d3-33c2-4e77-9998-db922cb8c018",
   "metadata": {},
   "outputs": [
    {
     "name": "stdout",
     "output_type": "stream",
     "text": [
      "Num GPUs Available:  1\n"
     ]
    }
   ],
   "source": [
    "import tensorflow as tf\n",
    "print(\"Num GPUs Available: \", len(tf.config.list_physical_devices('GPU')))"
   ]
  },
  {
   "cell_type": "code",
   "execution_count": 346,
   "id": "359f1988-34f3-41f2-b8c5-70b2f516f893",
   "metadata": {},
   "outputs": [
    {
     "name": "stdout",
     "output_type": "stream",
     "text": [
      "Epoch 1/30\n",
      "3176/3176 [==============================] - 215s 67ms/step - loss: 0.4626 - accuracy: 0.7918 - precision_10: 0.7745 - recall_10: 0.7792 - val_loss: 0.5407 - val_accuracy: 0.7192 - val_precision_10: 0.6318 - val_recall_10: 0.9499\n",
      "Epoch 2/30\n",
      "3176/3176 [==============================] - 176s 56ms/step - loss: 0.4161 - accuracy: 0.8199 - precision_10: 0.8019 - recall_10: 0.8138 - val_loss: 0.3855 - val_accuracy: 0.8326 - val_precision_10: 0.8267 - val_recall_10: 0.8098\n",
      "Epoch 3/30\n",
      "3176/3176 [==============================] - 171s 54ms/step - loss: 0.3964 - accuracy: 0.8297 - precision_10: 0.8098 - recall_10: 0.8285 - val_loss: 0.3752 - val_accuracy: 0.8360 - val_precision_10: 0.8060 - val_recall_10: 0.8526\n",
      "Epoch 4/30\n",
      "3176/3176 [==============================] - 141s 44ms/step - loss: 0.3872 - accuracy: 0.8345 - precision_10: 0.8140 - recall_10: 0.8348 - val_loss: 0.3694 - val_accuracy: 0.8411 - val_precision_10: 0.8249 - val_recall_10: 0.8357\n",
      "Epoch 5/30\n",
      "3176/3176 [==============================] - 105s 33ms/step - loss: 0.3828 - accuracy: 0.8359 - precision_10: 0.8147 - recall_10: 0.8376 - val_loss: 0.4083 - val_accuracy: 0.8135 - val_precision_10: 0.7418 - val_recall_10: 0.9188\n",
      "Epoch 6/30\n",
      "3176/3176 [==============================] - 103s 32ms/step - loss: 0.3755 - accuracy: 0.8397 - precision_10: 0.8190 - recall_10: 0.8414 - val_loss: 0.3759 - val_accuracy: 0.8405 - val_precision_10: 0.7958 - val_recall_10: 0.8839\n",
      "Epoch 7/30\n",
      "3176/3176 [==============================] - 104s 33ms/step - loss: 0.3718 - accuracy: 0.8420 - precision_10: 0.8207 - recall_10: 0.8449 - val_loss: 0.3683 - val_accuracy: 0.8408 - val_precision_10: 0.8559 - val_recall_10: 0.7908\n",
      "Epoch 8/30\n",
      "3176/3176 [==============================] - 170s 53ms/step - loss: 0.3704 - accuracy: 0.8418 - precision_10: 0.8192 - recall_10: 0.8469 - val_loss: 0.3696 - val_accuracy: 0.8411 - val_precision_10: 0.7993 - val_recall_10: 0.8790\n",
      "Epoch 9/30\n",
      "3176/3176 [==============================] - 171s 54ms/step - loss: 0.3685 - accuracy: 0.8431 - precision_10: 0.8230 - recall_10: 0.8442 - val_loss: 0.3594 - val_accuracy: 0.8462 - val_precision_10: 0.8412 - val_recall_10: 0.8250\n",
      "Epoch 10/30\n",
      "3176/3176 [==============================] - 112s 35ms/step - loss: 0.3660 - accuracy: 0.8448 - precision_10: 0.8239 - recall_10: 0.8475 - val_loss: 0.3767 - val_accuracy: 0.8341 - val_precision_10: 0.7753 - val_recall_10: 0.9059\n",
      "Epoch 11/30\n",
      "3176/3176 [==============================] - 103s 32ms/step - loss: 0.3625 - accuracy: 0.8466 - precision_10: 0.8249 - recall_10: 0.8508 - val_loss: 0.3983 - val_accuracy: 0.8247 - val_precision_10: 0.8660 - val_recall_10: 0.7371\n",
      "Epoch 12/30\n",
      "3176/3176 [==============================] - 104s 33ms/step - loss: 0.3620 - accuracy: 0.8464 - precision_10: 0.8262 - recall_10: 0.8482 - val_loss: 0.3545 - val_accuracy: 0.8496 - val_precision_10: 0.8263 - val_recall_10: 0.8568\n",
      "Epoch 13/30\n",
      "3176/3176 [==============================] - 105s 33ms/step - loss: 0.3624 - accuracy: 0.8464 - precision_10: 0.8239 - recall_10: 0.8518 - val_loss: 0.3481 - val_accuracy: 0.8512 - val_precision_10: 0.8487 - val_recall_10: 0.8276\n",
      "Epoch 14/30\n",
      "3176/3176 [==============================] - 104s 33ms/step - loss: 0.3595 - accuracy: 0.8491 - precision_10: 0.8282 - recall_10: 0.8525 - val_loss: 0.3524 - val_accuracy: 0.8486 - val_precision_10: 0.8284 - val_recall_10: 0.8508\n",
      "Epoch 15/30\n",
      "3176/3176 [==============================] - 105s 33ms/step - loss: 0.3580 - accuracy: 0.8485 - precision_10: 0.8283 - recall_10: 0.8506 - val_loss: 0.3502 - val_accuracy: 0.8508 - val_precision_10: 0.8300 - val_recall_10: 0.8542\n",
      "Epoch 16/30\n",
      "3176/3176 [==============================] - 104s 33ms/step - loss: 0.3576 - accuracy: 0.8487 - precision_10: 0.8282 - recall_10: 0.8514 - val_loss: 0.3604 - val_accuracy: 0.8477 - val_precision_10: 0.8500 - val_recall_10: 0.8168\n",
      "Epoch 17/30\n",
      "3176/3176 [==============================] - 106s 34ms/step - loss: 0.3557 - accuracy: 0.8494 - precision_10: 0.8289 - recall_10: 0.8521 - val_loss: 0.3539 - val_accuracy: 0.8502 - val_precision_10: 0.8215 - val_recall_10: 0.8660\n",
      "Epoch 18/30\n",
      "3176/3176 [==============================] - 106s 33ms/step - loss: 0.3546 - accuracy: 0.8491 - precision_10: 0.8282 - recall_10: 0.8525 - val_loss: 0.3468 - val_accuracy: 0.8524 - val_precision_10: 0.8305 - val_recall_10: 0.8577\n",
      "Epoch 19/30\n",
      "3176/3176 [==============================] - 145s 46ms/step - loss: 0.3538 - accuracy: 0.8506 - precision_10: 0.8306 - recall_10: 0.8528 - val_loss: 0.3550 - val_accuracy: 0.8489 - val_precision_10: 0.8169 - val_recall_10: 0.8701\n",
      "Epoch 20/30\n",
      "3176/3176 [==============================] - 168s 53ms/step - loss: 0.3524 - accuracy: 0.8517 - precision_10: 0.8305 - recall_10: 0.8557 - val_loss: 0.3450 - val_accuracy: 0.8540 - val_precision_10: 0.8321 - val_recall_10: 0.8594\n",
      "Epoch 21/30\n",
      "3176/3176 [==============================] - 176s 55ms/step - loss: 0.3531 - accuracy: 0.8504 - precision_10: 0.8305 - recall_10: 0.8523 - val_loss: 0.3526 - val_accuracy: 0.8478 - val_precision_10: 0.8552 - val_recall_10: 0.8099\n",
      "Epoch 22/30\n",
      "3176/3176 [==============================] - 178s 56ms/step - loss: 0.3509 - accuracy: 0.8517 - precision_10: 0.8307 - recall_10: 0.8554 - val_loss: 0.3433 - val_accuracy: 0.8535 - val_precision_10: 0.8400 - val_recall_10: 0.8464\n",
      "Epoch 23/30\n",
      "3176/3176 [==============================] - 149s 47ms/step - loss: 0.3518 - accuracy: 0.8506 - precision_10: 0.8305 - recall_10: 0.8529 - val_loss: 0.3491 - val_accuracy: 0.8524 - val_precision_10: 0.8236 - val_recall_10: 0.8686\n",
      "Epoch 24/30\n",
      "3176/3176 [==============================] - 178s 56ms/step - loss: 0.3507 - accuracy: 0.8518 - precision_10: 0.8319 - recall_10: 0.8541 - val_loss: 0.3657 - val_accuracy: 0.8425 - val_precision_10: 0.7916 - val_recall_10: 0.8976\n",
      "Epoch 25/30\n",
      "3176/3176 [==============================] - 171s 54ms/step - loss: 0.3489 - accuracy: 0.8526 - precision_10: 0.8318 - recall_10: 0.8562 - val_loss: 0.3433 - val_accuracy: 0.8530 - val_precision_10: 0.8301 - val_recall_10: 0.8599\n",
      "Epoch 26/30\n",
      "3176/3176 [==============================] - 196s 62ms/step - loss: 0.3479 - accuracy: 0.8536 - precision_10: 0.8328 - recall_10: 0.8573 - val_loss: 0.3451 - val_accuracy: 0.8536 - val_precision_10: 0.8416 - val_recall_10: 0.8439\n",
      "Epoch 27/30\n",
      "3176/3176 [==============================] - 287s 90ms/step - loss: 0.3481 - accuracy: 0.8544 - precision_10: 0.8342 - recall_10: 0.8574 - val_loss: 0.3445 - val_accuracy: 0.8536 - val_precision_10: 0.8292 - val_recall_10: 0.8631\n",
      "Epoch 28/30\n",
      "3176/3176 [==============================] - 129s 41ms/step - loss: 0.3470 - accuracy: 0.8533 - precision_10: 0.8330 - recall_10: 0.8563 - val_loss: 0.3435 - val_accuracy: 0.8530 - val_precision_10: 0.8398 - val_recall_10: 0.8452\n",
      "Epoch 29/30\n",
      "3176/3176 [==============================] - 131s 41ms/step - loss: 0.3464 - accuracy: 0.8543 - precision_10: 0.8341 - recall_10: 0.8573 - val_loss: 0.3534 - val_accuracy: 0.8488 - val_precision_10: 0.8266 - val_recall_10: 0.8542\n",
      "Epoch 30/30\n",
      "3176/3176 [==============================] - 145s 46ms/step - loss: 0.3444 - accuracy: 0.8553 - precision_10: 0.8351 - recall_10: 0.8583 - val_loss: 0.3515 - val_accuracy: 0.8497 - val_precision_10: 0.8665 - val_recall_10: 0.8001\n"
     ]
    }
   ],
   "source": [
    "from sklearn.utils import class_weight\n",
    "\n",
    "# Add callback for early stopping\n",
    "es_callback = tf.keras.callbacks.EarlyStopping(\n",
    "    monitor='val_accuracy',\n",
    "    patience=10,\n",
    "    mode='auto',\n",
    "    baseline=None,\n",
    "    restore_best_weights=True\n",
    ")\n",
    "\n",
    "class_weights = class_weight.compute_class_weight('balanced', classes = np.unique(train['class'].to_numpy(dtype=int)), y = train['class'].to_numpy(dtype=int))\n",
    "weights = { 0. : class_weights[0], 1. : class_weights[1]}\n",
    "history = model.fit(train_generator,\n",
    "    epochs=30,\n",
    "    steps_per_epoch=len(train) / 32, \n",
    "    verbose=1,\n",
    "    shuffle = True,\n",
    "    validation_data = validation_generator,\n",
    "    class_weight=weights,                    \n",
    "    callbacks=[es_callback]\n",
    ")"
   ]
  },
  {
   "cell_type": "code",
   "execution_count": 347,
   "id": "92054526-67b1-4598-910a-05e6699280f2",
   "metadata": {},
   "outputs": [
    {
     "name": "stdout",
     "output_type": "stream",
     "text": [
      "1059/1059 [==============================] - 21s 20ms/step - loss: 0.3450 - accuracy: 0.8540 - precision_10: 0.8321 - recall_10: 0.8594\n"
     ]
    },
    {
     "data": {
      "text/plain": [
       "[0.3450086712837219,\n",
       " 0.8539760112762451,\n",
       " 0.8321248888969421,\n",
       " 0.8594275712966919]"
      ]
     },
     "execution_count": 347,
     "metadata": {},
     "output_type": "execute_result"
    }
   ],
   "source": [
    "model.evaluate(validation_generator)"
   ]
  },
  {
   "cell_type": "code",
   "execution_count": 348,
   "id": "0046bfd9-8aa0-4bca-b813-215781155569",
   "metadata": {},
   "outputs": [
    {
     "name": "stdout",
     "output_type": "stream",
     "text": [
      "1059/1059 [==============================] - 53s 50ms/step - loss: 0.3492 - accuracy: 0.8535 - precision_10: 0.8299 - recall_10: 0.8618\n"
     ]
    },
    {
     "data": {
      "text/plain": [
       "[0.34919896721839905,\n",
       " 0.8535332679748535,\n",
       " 0.8298600316047668,\n",
       " 0.8617756962776184]"
      ]
     },
     "execution_count": 348,
     "metadata": {},
     "output_type": "execute_result"
    }
   ],
   "source": [
    "model.evaluate(test_generator)\n"
   ]
  },
  {
   "cell_type": "code",
   "execution_count": 349,
   "id": "28df31e4-ffca-40e2-896e-eda63a59a5d6",
   "metadata": {},
   "outputs": [],
   "source": [
    "# Save the model\n",
    "model.save('classical_model.h5')"
   ]
  },
  {
   "cell_type": "code",
   "execution_count": 350,
   "id": "74d2ac9c-b949-4f0c-a0cf-47020c26e8a1",
   "metadata": {},
   "outputs": [],
   "source": [
    "import matplotlib as mpl\n",
    "import matplotlib.pyplot as plt\n",
    "import pandas as pd\n",
    "import seaborn as sns\n",
    "\n",
    "mpl.rcParams['figure.figsize'] = (15, 5)\n",
    "colors = plt.rcParams['axes.prop_cycle'].by_key()['color']"
   ]
  },
  {
   "cell_type": "code",
   "execution_count": 375,
   "id": "ce021122-4a56-448d-9e1c-38295010e262",
   "metadata": {},
   "outputs": [],
   "source": [
    "def plot_metrics(history, metrics = ['loss', 'precision_10', 'recall_10', 'accuracy']):    \n",
    "    fig, axs = plt.subplots(len(metrics) // 2, 2)\n",
    "    fig.tight_layout()\n",
    "    for n, metric in enumerate(metrics):\n",
    "        name = metric.replace(\"_\",\" \").capitalize()\n",
    "        axs[n // 2, n % 2].plot(history.epoch, history.history[metric], color=colors[0], label='Train')\n",
    "        axs[n // 2, n % 2].plot(history.epoch, history.history['val_'+metric], color=colors[1], linestyle=\"--\", label='Val')\n",
    "        axs[n // 2, n % 2].set_xlabel('Epoch')\n",
    "        axs[n // 2, n % 2].set_ylabel(name.split(\"_\")[0])\n",
    "        axs[n // 2, n % 2].set_ylim([0,1])\n",
    "        axs[n // 2, n % 2].set_ylim([0,1])\n",
    "        axs[n // 2, n % 2].legend();"
   ]
  },
  {
   "cell_type": "code",
   "execution_count": 356,
   "id": "ad45a2e4",
   "metadata": {},
   "outputs": [
    {
     "data": {
      "image/png": "[encoded data removed]",
      "text/plain": [
       "<Figure size 1080x360 with 4 Axes>"
      ]
     },
     "metadata": {
      "needs_background": "light"
     },
     "output_type": "display_data"
    }
   ],
   "source": [
    "plot_metrics(history)"
   ]
  },
  {
   "cell_type": "code",
   "execution_count": 357,
   "id": "4845ece3-ac79-4133-8af9-619be5fcb806",
   "metadata": {},
   "outputs": [],
   "source": [
    "from sklearn.metrics import confusion_matrix, precision_recall_fscore_support\n",
    "from sklearn.model_selection import cross_val_score\n",
    "import warnings"
   ]
  },
  {
   "cell_type": "code",
   "execution_count": 358,
   "id": "9962190b-1d4c-4907-8840-34addb1f776f",
   "metadata": {},
   "outputs": [],
   "source": [
    "def plot_confusion_matrix(model):\n",
    "    # Print total accuracy and confusion matrix\n",
    "    val_predicts = model.predict(test_generator)\n",
    "    y_pred = 1*(val_predicts >= 0.5)\n",
    "    y_pred = y_pred.flatten()\n",
    "    groundTruth = test['class'].astype(int).to_numpy().astype(np.float32)\n",
    "    print(y_pred.shape, groundTruth)\n",
    "\n",
    "    # confusionMatrix takes first input = groundtruth, second input = predicted values\n",
    "    cm = confusion_matrix(groundTruth, y_pred)\n",
    "\n",
    "    # here we have simple check where we assume that all people are healthy\n",
    "    # then, we check what probability we get with dumb guess\n",
    "\n",
    "    # Normal cases can be counted by summing all labels that are zeros\n",
    "    print('Simple guess accuracy was: {:.4f}'.format(np.sum(groundTruth == 0)/len(groundTruth)))\n",
    "\n",
    "    # Accuracy can be calculated from the confusion matrix by\n",
    "    # counting all elements in diagonal (=trace of the matrix)\n",
    "    #print('Total accuracy was: {:.4f}'.format(np.trace(cm)/sum(cm)))\n",
    "    print('Confusion matrix:')\n",
    "    print(cm)\n",
    "\n",
    "\n",
    "    m = tf.keras.metrics.BinaryAccuracy()\n",
    "    m.update_state(groundTruth, y_pred)\n",
    "    print(\"Accuracy: \",m.result().numpy())\n",
    "    # Calculate precision, recall, fscore and support\n",
    "    with warnings.catch_warnings():\n",
    "        warnings.simplefilter(\"ignore\")\n",
    "        p, r, f, s = precision_recall_fscore_support(groundTruth, y_pred)\n",
    "\n",
    "    # Print precision, recall, fscore and support  \n",
    "    np.set_printoptions(formatter={'float': '{: 0.3f}'.format})\n",
    "    print('Support:\\n', s)\n",
    "    print('Precision:', p)\n",
    "    print('Recall:   ', r)\n",
    "    print('F-score:  ', f)\n"
   ]
  },
  {
   "cell_type": "code",
   "execution_count": 359,
   "id": "d4374432",
   "metadata": {},
   "outputs": [
    {
     "name": "stdout",
     "output_type": "stream",
     "text": [
      "1059/1059 [==============================] - 12s 12ms/step\n",
      "(33878,) [ 1.000  0.000  0.000 ...  0.000  1.000  0.000]\n",
      "Simple guess accuracy was: 0.5349\n",
      "Confusion matrix:\n",
      "[[15337  2784]\n",
      " [ 2178 13579]]\n",
      "Accuracy:  0.85353327\n",
      "Support:\n",
      " [18121 15757]\n",
      "Precision: [ 0.876  0.830]\n",
      "Recall:    [ 0.846  0.862]\n",
      "F-score:   [ 0.861  0.846]\n"
     ]
    }
   ],
   "source": [
    "plot_confusion_matrix(model)"
   ]
  },
  {
   "cell_type": "code",
   "execution_count": 384,
   "id": "7cf180d5-aaf9-4614-bfb6-12e1b64d70ff",
   "metadata": {},
   "outputs": [
    {
     "name": "stdout",
     "output_type": "stream",
     "text": [
      "Model: \"sequential_14\"\n",
      "_________________________________________________________________\n",
      " Layer (type)                Output Shape              Param #   \n",
      "=================================================================\n",
      " conv2d_40 (Conv2D)          (None, 48, 48, 32)        896       \n",
      "                                                                 \n",
      " batch_normalization_15 (Bat  (None, 48, 48, 32)       128       \n",
      " chNormalization)                                                \n",
      "                                                                 \n",
      " max_pooling2d_40 (MaxPoolin  (None, 24, 24, 32)       0         \n",
      " g2D)                                                            \n",
      "                                                                 \n",
      " conv2d_41 (Conv2D)          (None, 22, 22, 64)        18496     \n",
      "                                                                 \n",
      " batch_normalization_16 (Bat  (None, 22, 22, 64)       256       \n",
      " chNormalization)                                                \n",
      "                                                                 \n",
      " max_pooling2d_41 (MaxPoolin  (None, 11, 11, 64)       0         \n",
      " g2D)                                                            \n",
      "                                                                 \n",
      " conv2d_42 (Conv2D)          (None, 9, 9, 128)         73856     \n",
      "                                                                 \n",
      " batch_normalization_17 (Bat  (None, 9, 9, 128)        512       \n",
      " chNormalization)                                                \n",
      "                                                                 \n",
      " dropout_10 (Dropout)        (None, 9, 9, 128)         0         \n",
      "                                                                 \n",
      " max_pooling2d_42 (MaxPoolin  (None, 4, 4, 128)        0         \n",
      " g2D)                                                            \n",
      "                                                                 \n",
      " flatten_14 (Flatten)        (None, 2048)              0         \n",
      "                                                                 \n",
      " dense_28 (Dense)            (None, 512)               1049088   \n",
      "                                                                 \n",
      " dropout_11 (Dropout)        (None, 512)               0         \n",
      "                                                                 \n",
      " dense_29 (Dense)            (None, 1)                 513       \n",
      "                                                                 \n",
      "=================================================================\n",
      "Total params: 1,143,745\n",
      "Trainable params: 1,143,297\n",
      "Non-trainable params: 448\n",
      "_________________________________________________________________\n"
     ]
    }
   ],
   "source": [
    "# Define a classical CNN architecture: conv -> max pool\n",
    "def model_with_regularization():\n",
    "    # build and train a quite simple CNN binary classification model\n",
    "    model = tf.keras.models.Sequential([\n",
    "    tf.keras.layers.Conv2D(32, (3,3), activation='relu', input_shape=(IMAGE_WIDTH, IMAGE_LENGTH, 3)),\n",
    "    tf.keras.layers.BatchNormalization(),    \n",
    "    tf.keras.layers.MaxPooling2D(2,2),\n",
    "\n",
    "    tf.keras.layers.Conv2D(64, (3,3), activation='relu', input_shape=(IMAGE_WIDTH, IMAGE_LENGTH, 3)),\n",
    "    tf.keras.layers.BatchNormalization(),\n",
    "    tf.keras.layers.MaxPooling2D(2,2),\n",
    "\n",
    "    tf.keras.layers.Conv2D(128, (3,3), activation='relu', input_shape=(IMAGE_WIDTH, IMAGE_LENGTH, 3)),\n",
    "    tf.keras.layers.BatchNormalization(),\n",
    "    tf.keras.layers.Dropout(0.3),\n",
    "\n",
    "    tf.keras.layers.MaxPooling2D(2,2),\n",
    "    tf.keras.layers.Flatten(),\n",
    "\n",
    "    tf.keras.layers.Dense(512, activation='relu'),\n",
    "    tf.keras.layers.Dropout(0.2),\n",
    "    tf.keras.layers.Dense(1, activation='sigmoid')])\n",
    "\n",
    "    return model\n",
    "\n",
    "model_reg2 = model_with_regularization()\n",
    "model_reg2.summary()"
   ]
  },
  {
   "cell_type": "code",
   "execution_count": 385,
   "id": "5c182111-eac3-41db-9cd6-b9ce36cf2f6f",
   "metadata": {},
   "outputs": [],
   "source": [
    "from keras.metrics import Precision, Recall\n",
    "model_reg2.compile(loss='binary_crossentropy', optimizer=tf.keras.optimizers.Adam(), metrics= ['accuracy', Precision(), Recall()])"
   ]
  },
  {
   "cell_type": "code",
   "execution_count": null,
   "id": "803d39c0-5e8c-4dd6-9abb-bc8701154c4c",
   "metadata": {},
   "outputs": [
    {
     "name": "stdout",
     "output_type": "stream",
     "text": [
      "Epoch 1/50\n",
      "3176/3176 [==============================] - 102s 32ms/step - loss: 0.4430 - accuracy: 0.8133 - precision_15: 0.7932 - recall_15: 0.8097 - val_loss: 0.4331 - val_accuracy: 0.8039 - val_precision_15: 0.8621 - val_recall_15: 0.6886\n",
      "Epoch 2/50\n",
      "3176/3176 [==============================] - 105s 33ms/step - loss: 0.3964 - accuracy: 0.8327 - precision_15: 0.8100 - recall_15: 0.8364 - val_loss: 0.7099 - val_accuracy: 0.7587 - val_precision_15: 0.7405 - val_recall_15: 0.7409\n",
      "Epoch 3/50\n",
      "3176/3176 [==============================] - 103s 32ms/step - loss: 0.3840 - accuracy: 0.8396 - precision_15: 0.8177 - recall_15: 0.8432 - val_loss: 1.6702 - val_accuracy: 0.7208 - val_precision_15: 0.8948 - val_recall_15: 0.4530\n",
      "Epoch 4/50\n",
      "3176/3176 [==============================] - 101s 32ms/step - loss: 0.3744 - accuracy: 0.8423 - precision_15: 0.8214 - recall_15: 0.8446 - val_loss: 0.4667 - val_accuracy: 0.8321 - val_precision_15: 0.7770 - val_recall_15: 0.8962\n",
      "Epoch 5/50\n",
      "3176/3176 [==============================] - 103s 32ms/step - loss: 0.3708 - accuracy: 0.8449 - precision_15: 0.8228 - recall_15: 0.8495 - val_loss: 0.8875 - val_accuracy: 0.7639 - val_precision_15: 0.8966 - val_recall_15: 0.5566\n",
      "Epoch 6/50\n",
      "3176/3176 [==============================] - 103s 32ms/step - loss: 0.3643 - accuracy: 0.8483 - precision_15: 0.8265 - recall_15: 0.8530 - val_loss: 0.6389 - val_accuracy: 0.8043 - val_precision_15: 0.8524 - val_recall_15: 0.7005\n",
      "Epoch 7/50\n",
      "3176/3176 [==============================] - 104s 33ms/step - loss: 0.3600 - accuracy: 0.8484 - precision_15: 0.8254 - recall_15: 0.8547 - val_loss: 13.5311 - val_accuracy: 0.5580 - val_precision_15: 0.8841 - val_recall_15: 0.0571\n",
      "Epoch 8/50\n",
      "3176/3176 [==============================] - 104s 33ms/step - loss: 0.3551 - accuracy: 0.8525 - precision_15: 0.8310 - recall_15: 0.8574 - val_loss: 0.5601 - val_accuracy: 0.7538 - val_precision_15: 0.6690 - val_recall_15: 0.9316\n",
      "Epoch 9/50\n",
      "3176/3176 [==============================] - 107s 34ms/step - loss: 0.3501 - accuracy: 0.8542 - precision_15: 0.8311 - recall_15: 0.8616 - val_loss: 0.8465 - val_accuracy: 0.7989 - val_precision_15: 0.8063 - val_recall_15: 0.7472\n",
      "Epoch 10/50\n",
      "3176/3176 [==============================] - 106s 33ms/step - loss: 0.3482 - accuracy: 0.8552 - precision_15: 0.8315 - recall_15: 0.8636 - val_loss: 1.2704 - val_accuracy: 0.5978 - val_precision_15: 0.5366 - val_recall_15: 0.9924\n",
      "Epoch 11/50\n",
      "3176/3176 [==============================] - 103s 32ms/step - loss: 0.3455 - accuracy: 0.8570 - precision_15: 0.8331 - recall_15: 0.8660 - val_loss: 0.9705 - val_accuracy: 0.6778 - val_precision_15: 0.5936 - val_recall_15: 0.9742\n",
      "Epoch 12/50\n",
      "3176/3176 [==============================] - 104s 33ms/step - loss: 0.3401 - accuracy: 0.8583 - precision_15: 0.8359 - recall_15: 0.8652 - val_loss: 0.6698 - val_accuracy: 0.7977 - val_precision_15: 0.8771 - val_recall_15: 0.6571\n",
      "Epoch 13/50\n",
      "3176/3176 [==============================] - 105s 33ms/step - loss: 0.3380 - accuracy: 0.8584 - precision_15: 0.8344 - recall_15: 0.8679 - val_loss: 0.4328 - val_accuracy: 0.8182 - val_precision_15: 0.7629 - val_recall_15: 0.8839\n",
      "Epoch 14/50\n",
      "3176/3176 [==============================] - 103s 32ms/step - loss: 0.3374 - accuracy: 0.8598 - precision_15: 0.8374 - recall_15: 0.8669 - val_loss: 0.6998 - val_accuracy: 0.8370 - val_precision_15: 0.8069 - val_recall_15: 0.8539\n",
      "Epoch 15/50\n",
      "3176/3176 [==============================] - 129s 41ms/step - loss: 0.3348 - accuracy: 0.8601 - precision_15: 0.8364 - recall_15: 0.8694 - val_loss: 0.4868 - val_accuracy: 0.7879 - val_precision_15: 0.8581 - val_recall_15: 0.6517\n",
      "Epoch 16/50\n",
      "3176/3176 [==============================] - 117s 37ms/step - loss: 0.3341 - accuracy: 0.8596 - precision_15: 0.8365 - recall_15: 0.8679 - val_loss: 0.4097 - val_accuracy: 0.8533 - val_precision_15: 0.8482 - val_recall_15: 0.8339\n",
      "Epoch 17/50\n",
      "3176/3176 [==============================] - 165s 52ms/step - loss: 0.3313 - accuracy: 0.8617 - precision_15: 0.8387 - recall_15: 0.8701 - val_loss: 0.4780 - val_accuracy: 0.8455 - val_precision_15: 0.8308 - val_recall_15: 0.8386\n",
      "Epoch 18/50\n",
      "3176/3176 [==============================] - 169s 53ms/step - loss: 0.3296 - accuracy: 0.8627 - precision_15: 0.8392 - recall_15: 0.8718 - val_loss: 0.3742 - val_accuracy: 0.8403 - val_precision_15: 0.8421 - val_recall_15: 0.8081\n",
      "Epoch 19/50\n",
      "3176/3176 [==============================] - 103s 33ms/step - loss: 0.3286 - accuracy: 0.8630 - precision_15: 0.8392 - recall_15: 0.8725 - val_loss: 0.3883 - val_accuracy: 0.8364 - val_precision_15: 0.8032 - val_recall_15: 0.8587\n",
      "Epoch 20/50\n",
      "3176/3176 [==============================] - 103s 32ms/step - loss: 0.3267 - accuracy: 0.8641 - precision_15: 0.8421 - recall_15: 0.8712 - val_loss: 0.3895 - val_accuracy: 0.8486 - val_precision_15: 0.7950 - val_recall_15: 0.9090\n",
      "Epoch 21/50\n",
      "3176/3176 [==============================] - 106s 33ms/step - loss: 0.3247 - accuracy: 0.8655 - precision_15: 0.8426 - recall_15: 0.8740 - val_loss: 0.6053 - val_accuracy: 0.7458 - val_precision_15: 0.8910 - val_recall_15: 0.5167\n",
      "Epoch 22/50\n",
      "3176/3176 [==============================] - 103s 32ms/step - loss: 0.3257 - accuracy: 0.8642 - precision_15: 0.8412 - recall_15: 0.8727 - val_loss: 0.6841 - val_accuracy: 0.7602 - val_precision_15: 0.9217 - val_recall_15: 0.5294\n",
      "Epoch 23/50\n",
      "3176/3176 [==============================] - 103s 32ms/step - loss: 0.3221 - accuracy: 0.8659 - precision_15: 0.8432 - recall_15: 0.8741 - val_loss: 0.6381 - val_accuracy: 0.7584 - val_precision_15: 0.8921 - val_recall_15: 0.5466\n",
      "Epoch 24/50\n",
      "3176/3176 [==============================] - 102s 32ms/step - loss: 0.3224 - accuracy: 0.8654 - precision_15: 0.8433 - recall_15: 0.8727 - val_loss: 0.4669 - val_accuracy: 0.8055 - val_precision_15: 0.8688 - val_recall_15: 0.6853\n",
      "Epoch 25/50\n",
      "3176/3176 [==============================] - 101s 32ms/step - loss: 0.3202 - accuracy: 0.8678 - precision_15: 0.8452 - recall_15: 0.8762 - val_loss: 0.4320 - val_accuracy: 0.8416 - val_precision_15: 0.7821 - val_recall_15: 0.9143\n",
      "Epoch 26/50\n",
      "3176/3176 [==============================] - 102s 32ms/step - loss: 0.3196 - accuracy: 0.8677 - precision_15: 0.8457 - recall_15: 0.8751 - val_loss: 0.4275 - val_accuracy: 0.8089 - val_precision_15: 0.7314 - val_recall_15: 0.9311\n",
      "Epoch 27/50\n",
      "3176/3176 [==============================] - 103s 32ms/step - loss: 0.3189 - accuracy: 0.8662 - precision_15: 0.8435 - recall_15: 0.8747 - val_loss: 0.3736 - val_accuracy: 0.8552 - val_precision_15: 0.8199 - val_recall_15: 0.8826\n",
      "Epoch 28/50\n",
      "3176/3176 [==============================] - 101s 32ms/step - loss: 0.3163 - accuracy: 0.8689 - precision_15: 0.8461 - recall_15: 0.8779 - val_loss: 0.4943 - val_accuracy: 0.7807 - val_precision_15: 0.6910 - val_recall_15: 0.9561\n",
      "Epoch 29/50\n",
      "3176/3176 [============================>.] - ETA: 0s - loss: 0.3167 - accuracy: 0.8687 - precision_15: 0.8463 - recall_15: 0.8769"
     ]
    }
   ],
   "source": [
    "from sklearn.utils import class_weight\n",
    "# Add callback for early stopping\n",
    "es_callback = tf.keras.callbacks.EarlyStopping(\n",
    "    monitor='val_accuracy',\n",
    "    patience=25,\n",
    "    mode='auto',\n",
    "    baseline=None,\n",
    "    restore_best_weights=True\n",
    ")\n",
    "\n",
    "class_weights = class_weight.compute_class_weight('balanced', classes = np.unique(train['class'].to_numpy(dtype=int)), y = train['class'].to_numpy(dtype=int))\n",
    "\n",
    "\n",
    "history_reg2 = model_reg2.fit(train_generator,\n",
    "    epochs=50,\n",
    "    steps_per_epoch=len(train) / 32, \n",
    "    verbose=1,\n",
    "    shuffle = True,\n",
    "    validation_data = validation_generator,\n",
    "    class_weight=weights,                    \n",
    "    callbacks=[es_callback]\n",
    ")"
   ]
  },
  {
   "cell_type": "code",
   "execution_count": 383,
   "id": "0c4bffbc-9beb-4d1a-8276-06158894615f",
   "metadata": {},
   "outputs": [
    {
     "name": "stdout",
     "output_type": "stream",
     "text": [
      "1059/1059 [==============================] - 13s 12ms/step\n",
      "(33878,) [ 1.000  0.000  0.000 ...  0.000  1.000  0.000]\n",
      "Simple guess accuracy was: 0.5349\n",
      "Confusion matrix:\n",
      "[[12428  5693]\n",
      " [  872 14885]]\n",
      "Accuracy:  0.8062164\n",
      "Support:\n",
      " [18121 15757]\n",
      "Precision: [ 0.934  0.723]\n",
      "Recall:    [ 0.686  0.945]\n",
      "F-score:   [ 0.791  0.819]\n"
     ]
    }
   ],
   "source": [
    "plot_confusion_matrix(model_reg2)"
   ]
  },
  {
   "cell_type": "code",
   "execution_count": 379,
   "id": "a6642585-e702-4191-b185-ac81baf07374",
   "metadata": {},
   "outputs": [
    {
     "data": {
      "image/png": "[encoded data removed]",
      "text/plain": [
       "<Figure size 1080x360 with 4 Axes>"
      ]
     },
     "metadata": {
      "needs_background": "light"
     },
     "output_type": "display_data"
    }
   ],
   "source": [
    "plot_metrics(history_reg2, metrics = ['loss', 'precision_14', 'recall_14', 'accuracy'])"
   ]
  },
  {
   "cell_type": "code",
   "execution_count": 55,
   "id": "5cc4d35d-6134-4056-a2e7-119f0ab87bab",
   "metadata": {},
   "outputs": [
    {
     "name": "stdout",
     "output_type": "stream",
     "text": [
      "985/985 [==============================] - 93s 94ms/step - loss: 0.3508 - accuracy: 0.8574 - precision_6: 0.8388 - recall_6: 0.8848\n"
     ]
    },
    {
     "data": {
      "text/plain": [
       "[0.3507586121559143,\n",
       " 0.8573694825172424,\n",
       " 0.8387678861618042,\n",
       " 0.8848130702972412]"
      ]
     },
     "execution_count": 55,
     "metadata": {},
     "output_type": "execute_result"
    }
   ],
   "source": [
    "model_reg.evaluate(test_generator)\n"
   ]
  },
  {
   "cell_type": "code",
   "execution_count": 381,
   "id": "352a08ce-09b3-46d3-adb5-ad2909febe8b",
   "metadata": {},
   "outputs": [],
   "source": [
    "# Save the model\n",
    "model_reg2.save('model_with_regularization.h5')\n",
    "#Load the model\n",
    "#model = tf.keras.models.load_model('classical_model.h5')"
   ]
  },
  {
   "cell_type": "code",
   "execution_count": 59,
   "id": "37413738-b720-4152-a8e9-306f1c6c138b",
   "metadata": {},
   "outputs": [],
   "source": [
    "import pickle\n",
    "\n",
    "with open('model_reg_hist', 'wb') as file_pi:\n",
    "    pickle.dump(history.history, file_pi)"
   ]
  },
  {
   "cell_type": "code",
   "execution_count": null,
   "id": "3e213996-2641-43b1-81ad-1886b58c5649",
   "metadata": {},
   "outputs": [],
   "source": []
  },
  {
   "cell_type": "code",
   "execution_count": null,
   "id": "3bcbfd81-0638-46dd-a081-77d1d518e696",
   "metadata": {},
   "outputs": [],
   "source": [
    "# https://towardsdatascience.com/transfer-learning-using-mobilenet-and-keras-c75daf7ff299\n",
    "from tensorflow.keras.applications import MobileNetV2"
   ]
  },
  {
   "cell_type": "code",
   "execution_count": null,
   "id": "d940f7fb-e610-4177-a849-51937e0c02bd",
   "metadata": {},
   "outputs": [],
   "source": [
    "#load data from DataFrame see https://www.tensorflow.org/api_docs/python/tf/keras/preprocessing/image/ImageDataGenerator#flow_from_dataframe\n",
    "from tensorflow.keras.preprocessing.image import ImageDataGenerator\n",
    "train_generator = ImageDataGenerator(\n",
    "    preprocessing_function = preprocess_input,\n",
    "    rotation_range=20,\n",
    "    width_shift_range=0.2,\n",
    "    height_shift_range=0.2,\n",
    "    horizontal_flip=True,\n",
    "    vertical_flip=True                                                   \n",
    ").flow_from_dataframe(dataframe = train, x_col = 'path', y_col='class', class_mode = 'binary',target_size=(50, 50), batch_size=32)\n"
   ]
  },
  {
   "cell_type": "code",
   "execution_count": null,
   "id": "2eea798c-db42-42cb-9d73-668d938f963b",
   "metadata": {},
   "outputs": [],
   "source": [
    "# Define a classical CNN architecture: conv -> max pool\n",
    "def mobilenet_model():\n",
    "    #based on https://towardsdatascience.com/transfer-learning-using-mobilenet-and-keras-c75daf7ff299\n",
    "    base_model=MobileNet(weights='imagenet',include_top=False) #imports the mobilenet model and discards the last 1000 neuron layer.\n",
    "    x=base_model.output\n",
    "    x=GlobalAveragePooling2D()(x)\n",
    "    x=Dense(1024,activation='relu')(x) #we add dense layers so that the model can learn more complex functions and classify for better results.\n",
    "    x=Dense(1024,activation='relu')(x) #dense layer 2\n",
    "    x=Dense(512,activation='relu')(x) #dense layer 3\n",
    "    preds=Dense(1,activation= activation='sigmoid')(x) #final layer with softmax activation    \n",
    "    \n",
    "    model=Model(inputs=base_model.input,outputs=preds)\n",
    "\n",
    "    for layer in model.layers[:20]:\n",
    "        layer.trainable=False\n",
    "    for layer in model.layers[20:]:\n",
    "        layer.trainable=True    \n",
    "    \n",
    "    return model\n",
    "\n",
    "mob_model = mobilenet_model()\n",
    "mob_model.summary()"
   ]
  },
  {
   "cell_type": "code",
   "execution_count": null,
   "id": "74267a31-8986-4666-9a7f-81461fd8cab7",
   "metadata": {},
   "outputs": [],
   "source": [
    "mob_model.compile(loss='binary_crossentropy', optimizer=tf.keras.optimizers.Adam(), metrics= ['accuracy', Precision(), Recall()])\n"
   ]
  },
  {
   "cell_type": "code",
   "execution_count": null,
   "id": "2e868b13-2a91-402a-90e4-db8c61d44c56",
   "metadata": {},
   "outputs": [],
   "source": [
    "# Add callback for early stopping\n",
    "es_callback = tf.keras.callbacks.EarlyStopping(\n",
    "    monitor='val_accuracy',\n",
    "    patience=20,\n",
    "    mode='auto',\n",
    "    baseline=None,\n",
    "    restore_best_weights=True\n",
    ")\n",
    "\n",
    "mob_history = mob_model.fit(train_generator,\n",
    "    epochs=100,\n",
    "    steps_per_epoch=len(train) / 32, \n",
    "    verbose=1,\n",
    "    shuffle = True,\n",
    "    validation_data = validation_generator,\n",
    "    callbacks=[es_callback]\n",
    ")"
   ]
  },
  {
   "cell_type": "code",
   "execution_count": null,
   "id": "b092805a",
   "metadata": {},
   "outputs": [],
   "source": []
  },
  {
   "cell_type": "code",
   "execution_count": null,
   "id": "5f1e0f7f",
   "metadata": {},
   "outputs": [],
   "source": [
    "def m2tex(model):\n",
    "    stringlist = []\n",
    "    model.summary(line_length=70, print_fn=lambda x: stringlist.append(x))\n",
    "    del stringlist[1:-4:2]\n",
    "    del stringlist[-1]\n",
    "    for ix in range(1,len(stringlist)-3):\n",
    "        tmp = stringlist[ix]\n",
    "        stringlist[ix] = tmp[0:31]+\"& \"+tmp[31:59]+\"& \"+tmp[59:]+\"\\\\\\\\ \\hline\"\n",
    "    stringlist[0] = \"Model: test \\\\\\\\ \\hline\"\n",
    "    stringlist[1] = stringlist[1]+\" \\hline\"\n",
    "    stringlist[-4] = stringlist[-4]+\" \\hline\"\n",
    "    stringlist[-3] = stringlist[-3]+\" \\\\\\\\\"\n",
    "    stringlist[-2] = stringlist[-2]+\" \\\\\\\\\"\n",
    "    stringlist[-1] = stringlist[-1]+\" \\\\\\\\ \\hline\"\n",
    "    prefix = [\"\\\\begin{table}[]\", \"\\\\begin{tabular}{lll}\"]\n",
    "    suffix = [\"\\end{tabular}\", \"\\caption{Model summary for test.}\", \"\\label{tab:model-summary}\" , \"\\end{table}\"]\n",
    "    stringlist = prefix + stringlist + suffix \n",
    "    out_str = \" \\n\".join(stringlist)\n",
    "    out_str = out_str.replace(\"_\", \"\\_\")\n",
    "    out_str = out_str.replace(\"#\", \"\\#\")\n",
    "    print(out_str)"
   ]
  }
 ],
 "metadata": {
  "kernelspec": {
   "display_name": "Python 3 (ipykernel)",
   "language": "python",
   "name": "python3"
  },
  "language_info": {
   "codemirror_mode": {
    "name": "ipython",
    "version": 3
   },
   "file_extension": ".py",
   "mimetype": "text/x-python",
   "name": "python",
   "nbconvert_exporter": "python",
   "pygments_lexer": "ipython3",
   "version": "3.9.7"
  }
 },
 "nbformat": 4,
 "nbformat_minor": 5
}
