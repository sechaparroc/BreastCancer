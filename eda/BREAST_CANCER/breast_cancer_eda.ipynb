{
 "cells": [
  {
   "cell_type": "code",
   "execution_count": 1,
   "id": "fb26a3da",
   "metadata": {},
   "outputs": [],
   "source": [
    "#Use a trained model to predict Breast Cancer\n",
    "#Make sure that the parent folder of Initial Model is within the same directory as the Data Folder with all the images\n",
    "\"\"\"\n",
    "Example:\n",
    "+ Data\n",
    "+ DashApp\n",
    "  |--- eda\n",
    "        |--- BREAST_CANCER\n",
    "\"\"\"\n",
    "#Comment this to use GPU\n",
    "import os"
   ]
  },
  {
   "cell_type": "markdown",
   "id": "dc213317",
   "metadata": {},
   "source": [
    "## Import and Prepare the Data"
   ]
  },
  {
   "cell_type": "code",
   "execution_count": 2,
   "id": "540cb941",
   "metadata": {},
   "outputs": [],
   "source": [
    "import os\n",
    "#Global variables\n",
    "DATA_PATH = os.path.join(\"..\",\"..\",\"..\",\"Data\")\n",
    "RANDOM_SEED = 42\n",
    "TEST_FRACTION = 0.2 # Just for initial test it must be something like 0.2\n",
    "VALIDATION_FRACTION = 0.2 # Use the 20% of the non test samples to build the validation set (the remaining is the Test Set)\n",
    "# Input patches are 50X50\n",
    "IMAGE_WIDTH = 50 \n",
    "IMAGE_LENGTH = 50"
   ]
  },
  {
   "cell_type": "code",
   "execution_count": 5,
   "id": "1436535f",
   "metadata": {},
   "outputs": [],
   "source": [
    "import numpy as np\n",
    "np.random.seed(RANDOM_SEED)\n",
    "import pandas as pd\n",
    "from sklearn.model_selection import train_test_split\n",
    "import glob"
   ]
  },
  {
   "cell_type": "code",
   "execution_count": 7,
   "id": "4ae03ece",
   "metadata": {},
   "outputs": [],
   "source": [
    "# read all patches\n",
    "patches = []\n",
    "for path in glob.glob(os.path.join(DATA_PATH,'**/*class*.png'), recursive = True):\n",
    "    patches.append(path)"
   ]
  },
  {
   "cell_type": "code",
   "execution_count": 63,
   "id": "5cf22c7b",
   "metadata": {},
   "outputs": [
    {
     "data": {
      "text/html": [
       "<div>\n",
       "<style scoped>\n",
       "    .dataframe tbody tr th:only-of-type {\n",
       "        vertical-align: middle;\n",
       "    }\n",
       "\n",
       "    .dataframe tbody tr th {\n",
       "        vertical-align: top;\n",
       "    }\n",
       "\n",
       "    .dataframe thead th {\n",
       "        text-align: right;\n",
       "    }\n",
       "</style>\n",
       "<table border=\"1\" class=\"dataframe\">\n",
       "  <thead>\n",
       "    <tr style=\"text-align: right;\">\n",
       "      <th></th>\n",
       "      <th>path</th>\n",
       "      <th>id</th>\n",
       "      <th>x</th>\n",
       "      <th>y</th>\n",
       "      <th>class</th>\n",
       "    </tr>\n",
       "  </thead>\n",
       "  <tbody>\n",
       "    <tr>\n",
       "      <th>0</th>\n",
       "      <td>..\\..\\..\\Data\\10253\\0\\10253_idx5_x1001_y1001_c...</td>\n",
       "      <td>10253</td>\n",
       "      <td>1001</td>\n",
       "      <td>1001</td>\n",
       "      <td>0</td>\n",
       "    </tr>\n",
       "    <tr>\n",
       "      <th>1</th>\n",
       "      <td>..\\..\\..\\Data\\10253\\0\\10253_idx5_x1001_y1051_c...</td>\n",
       "      <td>10253</td>\n",
       "      <td>1001</td>\n",
       "      <td>1051</td>\n",
       "      <td>0</td>\n",
       "    </tr>\n",
       "    <tr>\n",
       "      <th>2</th>\n",
       "      <td>..\\..\\..\\Data\\10253\\0\\10253_idx5_x1001_y1101_c...</td>\n",
       "      <td>10253</td>\n",
       "      <td>1001</td>\n",
       "      <td>1101</td>\n",
       "      <td>0</td>\n",
       "    </tr>\n",
       "    <tr>\n",
       "      <th>3</th>\n",
       "      <td>..\\..\\..\\Data\\10253\\0\\10253_idx5_x1001_y1151_c...</td>\n",
       "      <td>10253</td>\n",
       "      <td>1001</td>\n",
       "      <td>1151</td>\n",
       "      <td>0</td>\n",
       "    </tr>\n",
       "    <tr>\n",
       "      <th>4</th>\n",
       "      <td>..\\..\\..\\Data\\10253\\0\\10253_idx5_x1001_y1201_c...</td>\n",
       "      <td>10253</td>\n",
       "      <td>1001</td>\n",
       "      <td>1201</td>\n",
       "      <td>0</td>\n",
       "    </tr>\n",
       "  </tbody>\n",
       "</table>\n",
       "</div>"
      ],
      "text/plain": [
       "                                                path     id     x     y  class\n",
       "0  ..\\..\\..\\Data\\10253\\0\\10253_idx5_x1001_y1001_c...  10253  1001  1001      0\n",
       "1  ..\\..\\..\\Data\\10253\\0\\10253_idx5_x1001_y1051_c...  10253  1001  1051      0\n",
       "2  ..\\..\\..\\Data\\10253\\0\\10253_idx5_x1001_y1101_c...  10253  1001  1101      0\n",
       "3  ..\\..\\..\\Data\\10253\\0\\10253_idx5_x1001_y1151_c...  10253  1001  1151      0\n",
       "4  ..\\..\\..\\Data\\10253\\0\\10253_idx5_x1001_y1201_c...  10253  1001  1201      0"
      ]
     },
     "execution_count": 63,
     "metadata": {},
     "output_type": "execute_result"
    }
   ],
   "source": [
    "def createDataFrame():\n",
    "    # Keep info within a Pandas dataframe\n",
    "    data = pd.DataFrame({\"path\" : patches})\n",
    "    # Obtain patient information by spliting the filename\n",
    "    series_info = data[\"path\"].str.split(\"idx\").str[1].str.split(\"_\")\n",
    "    data['id'] = df[\"path\"].str.split(os.sep).str[4] # this get the idx portion\n",
    "    data['x'] = series_info.str[1].str[1:] # this get the x coord\n",
    "    data['y'] = series_info.str[2].str[1:] # this get the y coord\n",
    "    data['class'] = series_info.str[3] # this get the class\n",
    "    data['class'] = data[\"class\"].map({\"class0.png\" : \"0\" , \"class1.png\" : \"1\"}).astype(int) #map to a number\n",
    "    # sample the dataframe in such way that the data per class is balanced (same number of samples)\n",
    "    return data\n",
    "df = createDataFrame()\n",
    "df.head()"
   ]
  },
  {
   "cell_type": "code",
   "execution_count": 74,
   "id": "b4770997",
   "metadata": {},
   "outputs": [
    {
     "data": {
      "text/html": [
       "<div>\n",
       "<style scoped>\n",
       "    .dataframe tbody tr th:only-of-type {\n",
       "        vertical-align: middle;\n",
       "    }\n",
       "\n",
       "    .dataframe tbody tr th {\n",
       "        vertical-align: top;\n",
       "    }\n",
       "\n",
       "    .dataframe thead th {\n",
       "        text-align: right;\n",
       "    }\n",
       "</style>\n",
       "<table border=\"1\" class=\"dataframe\">\n",
       "  <thead>\n",
       "    <tr style=\"text-align: right;\">\n",
       "      <th></th>\n",
       "      <th>id</th>\n",
       "      <th>cancer_patches</th>\n",
       "      <th>total_patches</th>\n",
       "      <th>cancer_proportion</th>\n",
       "    </tr>\n",
       "  </thead>\n",
       "  <tbody>\n",
       "    <tr>\n",
       "      <th>154</th>\n",
       "      <td>14209</td>\n",
       "      <td>309</td>\n",
       "      <td>342</td>\n",
       "      <td>0.903509</td>\n",
       "    </tr>\n",
       "    <tr>\n",
       "      <th>259</th>\n",
       "      <td>9262</td>\n",
       "      <td>80</td>\n",
       "      <td>94</td>\n",
       "      <td>0.851064</td>\n",
       "    </tr>\n",
       "    <tr>\n",
       "      <th>65</th>\n",
       "      <td>12873</td>\n",
       "      <td>232</td>\n",
       "      <td>281</td>\n",
       "      <td>0.825623</td>\n",
       "    </tr>\n",
       "    <tr>\n",
       "      <th>230</th>\n",
       "      <td>9077</td>\n",
       "      <td>1263</td>\n",
       "      <td>1623</td>\n",
       "      <td>0.778189</td>\n",
       "    </tr>\n",
       "    <tr>\n",
       "      <th>40</th>\n",
       "      <td>12241</td>\n",
       "      <td>115</td>\n",
       "      <td>152</td>\n",
       "      <td>0.756579</td>\n",
       "    </tr>\n",
       "    <tr>\n",
       "      <th>...</th>\n",
       "      <td>...</td>\n",
       "      <td>...</td>\n",
       "      <td>...</td>\n",
       "      <td>...</td>\n",
       "    </tr>\n",
       "    <tr>\n",
       "      <th>45</th>\n",
       "      <td>12750</td>\n",
       "      <td>21</td>\n",
       "      <td>1434</td>\n",
       "      <td>0.014644</td>\n",
       "    </tr>\n",
       "    <tr>\n",
       "      <th>180</th>\n",
       "      <td>16085</td>\n",
       "      <td>24</td>\n",
       "      <td>1937</td>\n",
       "      <td>0.012390</td>\n",
       "    </tr>\n",
       "    <tr>\n",
       "      <th>13</th>\n",
       "      <td>10272</td>\n",
       "      <td>25</td>\n",
       "      <td>2175</td>\n",
       "      <td>0.011494</td>\n",
       "    </tr>\n",
       "    <tr>\n",
       "      <th>11</th>\n",
       "      <td>10268</td>\n",
       "      <td>23</td>\n",
       "      <td>2109</td>\n",
       "      <td>0.010906</td>\n",
       "    </tr>\n",
       "    <tr>\n",
       "      <th>36</th>\n",
       "      <td>10305</td>\n",
       "      <td>19</td>\n",
       "      <td>1821</td>\n",
       "      <td>0.010434</td>\n",
       "    </tr>\n",
       "  </tbody>\n",
       "</table>\n",
       "<p>279 rows × 4 columns</p>\n",
       "</div>"
      ],
      "text/plain": [
       "        id  cancer_patches  total_patches  cancer_proportion\n",
       "154  14209             309            342           0.903509\n",
       "259   9262              80             94           0.851064\n",
       "65   12873             232            281           0.825623\n",
       "230   9077            1263           1623           0.778189\n",
       "40   12241             115            152           0.756579\n",
       "..     ...             ...            ...                ...\n",
       "45   12750              21           1434           0.014644\n",
       "180  16085              24           1937           0.012390\n",
       "13   10272              25           2175           0.011494\n",
       "11   10268              23           2109           0.010906\n",
       "36   10305              19           1821           0.010434\n",
       "\n",
       "[279 rows x 4 columns]"
      ]
     },
     "execution_count": 74,
     "metadata": {},
     "output_type": "execute_result"
    }
   ],
   "source": [
    "# Create a new data frame grouped by patient ID\n",
    "df_patients = df['class'].groupby(df['id']).sum().reset_index()\n",
    "df_patients = df_patients.rename(columns={'class' : 'cancer_patches'})\n",
    "df_patients['total_patches'] = df.groupby('id')['class'].count().values\n",
    "#number of patches with cancer vs the total number of patches\n",
    "df_patients['cancer_proportion'] = df_patients['cancer_patches'] / df_patients['total_patches'] \n",
    "df_patients.sort_values(by = 'cancer_proportion', ascending = False)"
   ]
  },
  {
   "cell_type": "code",
   "execution_count": 129,
   "id": "26c15a9d",
   "metadata": {},
   "outputs": [],
   "source": [
    "# export this quite tiny csv\n",
    "df_patients.to_csv('patients.csv', index=False)"
   ]
  },
  {
   "cell_type": "code",
   "execution_count": 128,
   "id": "80ced82a",
   "metadata": {},
   "outputs": [
    {
     "data": {
      "text/plain": [
       "[]"
      ]
     },
     "execution_count": 128,
     "metadata": {},
     "output_type": "execute_result"
    }
   ],
   "source": [
    "#Given a patient obtain their images  stored in aws S3\n",
    "from boto3 import client\n",
    "\n",
    "def is_image_of_patient(patient_id, key):\n",
    "    print(key.split(\"/\")[-2], patient_id)\n",
    "    return key.split(\"/\")[-2] == patient_id\n",
    "\n",
    "def obtain_patient_images(patient_id, tile_size=500):\n",
    "    images = []\n",
    "    s3 = boto3.resource('s3')\n",
    "    my_bucket = s3.Bucket('breast-cancer-data')\n",
    "\n",
    "    for object_summary in my_bucket.objects.filter(Prefix=f\"Tiles/Tiles-{tile_size}/Tiles({tile_size}, {tile_size})/{patient_id}/\"):\n",
    "        images.append(object_summary.key)\n",
    "    return images\n",
    "                \n",
    "obtain_patient_images(1, 500)"
   ]
  },
  {
   "cell_type": "code",
   "execution_count": 135,
   "id": "85e4a385",
   "metadata": {},
   "outputs": [
    {
     "data": {
      "text/plain": [
       "[14209, 9262, 12873, 9077, 12241]"
      ]
     },
     "execution_count": 135,
     "metadata": {},
     "output_type": "execute_result"
    }
   ],
   "source": [
    "def obtain_patients_by_cancer_proportion(df, cancer_proportion, K = 5):\n",
    "    filtered_patients = df.iloc[(df['cancer_proportion']-cancer_proportion).abs().argsort()[:K]].astype(int)\n",
    "    return list(filtered_patients['id'].values)\n",
    "obtain_patients_by_cancer_proportion(df_patients, 5)"
   ]
  },
  {
   "cell_type": "code",
   "execution_count": null,
   "id": "a26a5a38",
   "metadata": {},
   "outputs": [],
   "source": []
  }
 ],
 "metadata": {
  "kernelspec": {
   "display_name": "Python 3 (ipykernel)",
   "language": "python",
   "name": "python3"
  },
  "language_info": {
   "codemirror_mode": {
    "name": "ipython",
    "version": 3
   },
   "file_extension": ".py",
   "mimetype": "text/x-python",
   "name": "python",
   "nbconvert_exporter": "python",
   "pygments_lexer": "ipython3",
   "version": "3.9.7"
  }
 },
 "nbformat": 4,
 "nbformat_minor": 5
}
